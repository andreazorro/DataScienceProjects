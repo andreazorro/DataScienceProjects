{
 "cells": [
  {
   "cell_type": "markdown",
   "metadata": {},
   "source": [
    "### Import libraries"
   ]
  },
  {
   "cell_type": "code",
   "execution_count": 5,
   "metadata": {},
   "outputs": [],
   "source": [
    "# Import libraries\n",
    "import pandas as pd\n",
    "import numpy as np\n",
    "import matplotlib.pyplot as plt\n",
    "import seaborn as sns\n",
    "from IPython.display import Markdown, display\n",
    "from tqdm import tqdm\n",
    "from sklearn.metrics import accuracy_score, precision_recall_fscore_support, confusion_matrix, matthews_corrcoef\n",
    "\n",
    "# Set the style for seaborn plots\n",
    "sns.set_theme(style=\"whitegrid\")\n",
    "\n",
    "# Warnings\n",
    "import warnings\n",
    "\n",
    "warnings.filterwarnings('ignore')\n",
    "\n",
    "# Import custom functions\n",
    "import sys\n",
    "import os\n",
    "\n",
    "sys.path.append(os.path.abspath('../'))\n"
   ]
  },
  {
   "cell_type": "markdown",
   "metadata": {},
   "source": [
    "### Model training and Evaluation Function "
   ]
  },
  {
   "cell_type": "markdown",
   "metadata": {},
   "source": [
    "### Read Data"
   ]
  },
  {
   "cell_type": "code",
   "execution_count": 6,
   "metadata": {},
   "outputs": [],
   "source": [
    "df_raw = pd.read_csv('train.csv')"
   ]
  },
  {
   "cell_type": "code",
   "execution_count": 7,
   "metadata": {},
   "outputs": [
    {
     "data": {
      "text/html": [
       "<div>\n",
       "<style scoped>\n",
       "    .dataframe tbody tr th:only-of-type {\n",
       "        vertical-align: middle;\n",
       "    }\n",
       "\n",
       "    .dataframe tbody tr th {\n",
       "        vertical-align: top;\n",
       "    }\n",
       "\n",
       "    .dataframe thead th {\n",
       "        text-align: right;\n",
       "    }\n",
       "</style>\n",
       "<table border=\"1\" class=\"dataframe\">\n",
       "  <thead>\n",
       "    <tr style=\"text-align: right;\">\n",
       "      <th></th>\n",
       "      <th>PassengerId</th>\n",
       "      <th>Survived</th>\n",
       "      <th>Pclass</th>\n",
       "      <th>Name</th>\n",
       "      <th>Sex</th>\n",
       "      <th>Age</th>\n",
       "      <th>SibSp</th>\n",
       "      <th>Parch</th>\n",
       "      <th>Ticket</th>\n",
       "      <th>Fare</th>\n",
       "      <th>Cabin</th>\n",
       "      <th>Embarked</th>\n",
       "    </tr>\n",
       "  </thead>\n",
       "  <tbody>\n",
       "    <tr>\n",
       "      <th>0</th>\n",
       "      <td>1</td>\n",
       "      <td>0</td>\n",
       "      <td>3</td>\n",
       "      <td>Braund, Mr. Owen Harris</td>\n",
       "      <td>male</td>\n",
       "      <td>22.0</td>\n",
       "      <td>1</td>\n",
       "      <td>0</td>\n",
       "      <td>A/5 21171</td>\n",
       "      <td>7.2500</td>\n",
       "      <td>NaN</td>\n",
       "      <td>S</td>\n",
       "    </tr>\n",
       "    <tr>\n",
       "      <th>1</th>\n",
       "      <td>2</td>\n",
       "      <td>1</td>\n",
       "      <td>1</td>\n",
       "      <td>Cumings, Mrs. John Bradley (Florence Briggs Th...</td>\n",
       "      <td>female</td>\n",
       "      <td>38.0</td>\n",
       "      <td>1</td>\n",
       "      <td>0</td>\n",
       "      <td>PC 17599</td>\n",
       "      <td>71.2833</td>\n",
       "      <td>C85</td>\n",
       "      <td>C</td>\n",
       "    </tr>\n",
       "    <tr>\n",
       "      <th>2</th>\n",
       "      <td>3</td>\n",
       "      <td>1</td>\n",
       "      <td>3</td>\n",
       "      <td>Heikkinen, Miss. Laina</td>\n",
       "      <td>female</td>\n",
       "      <td>26.0</td>\n",
       "      <td>0</td>\n",
       "      <td>0</td>\n",
       "      <td>STON/O2. 3101282</td>\n",
       "      <td>7.9250</td>\n",
       "      <td>NaN</td>\n",
       "      <td>S</td>\n",
       "    </tr>\n",
       "    <tr>\n",
       "      <th>3</th>\n",
       "      <td>4</td>\n",
       "      <td>1</td>\n",
       "      <td>1</td>\n",
       "      <td>Futrelle, Mrs. Jacques Heath (Lily May Peel)</td>\n",
       "      <td>female</td>\n",
       "      <td>35.0</td>\n",
       "      <td>1</td>\n",
       "      <td>0</td>\n",
       "      <td>113803</td>\n",
       "      <td>53.1000</td>\n",
       "      <td>C123</td>\n",
       "      <td>S</td>\n",
       "    </tr>\n",
       "    <tr>\n",
       "      <th>4</th>\n",
       "      <td>5</td>\n",
       "      <td>0</td>\n",
       "      <td>3</td>\n",
       "      <td>Allen, Mr. William Henry</td>\n",
       "      <td>male</td>\n",
       "      <td>35.0</td>\n",
       "      <td>0</td>\n",
       "      <td>0</td>\n",
       "      <td>373450</td>\n",
       "      <td>8.0500</td>\n",
       "      <td>NaN</td>\n",
       "      <td>S</td>\n",
       "    </tr>\n",
       "  </tbody>\n",
       "</table>\n",
       "</div>"
      ],
      "text/plain": [
       "   PassengerId  Survived  Pclass  \\\n",
       "0            1         0       3   \n",
       "1            2         1       1   \n",
       "2            3         1       3   \n",
       "3            4         1       1   \n",
       "4            5         0       3   \n",
       "\n",
       "                                                Name     Sex   Age  SibSp  \\\n",
       "0                            Braund, Mr. Owen Harris    male  22.0      1   \n",
       "1  Cumings, Mrs. John Bradley (Florence Briggs Th...  female  38.0      1   \n",
       "2                             Heikkinen, Miss. Laina  female  26.0      0   \n",
       "3       Futrelle, Mrs. Jacques Heath (Lily May Peel)  female  35.0      1   \n",
       "4                           Allen, Mr. William Henry    male  35.0      0   \n",
       "\n",
       "   Parch            Ticket     Fare Cabin Embarked  \n",
       "0      0         A/5 21171   7.2500   NaN        S  \n",
       "1      0          PC 17599  71.2833   C85        C  \n",
       "2      0  STON/O2. 3101282   7.9250   NaN        S  \n",
       "3      0            113803  53.1000  C123        S  \n",
       "4      0            373450   8.0500   NaN        S  "
      ]
     },
     "execution_count": 7,
     "metadata": {},
     "output_type": "execute_result"
    }
   ],
   "source": [
    "df_raw.head()"
   ]
  },
  {
   "cell_type": "code",
   "execution_count": 8,
   "metadata": {},
   "outputs": [
    {
     "name": "stdout",
     "output_type": "stream",
     "text": [
      "<class 'pandas.core.frame.DataFrame'>\n",
      "RangeIndex: 891 entries, 0 to 890\n",
      "Data columns (total 12 columns):\n",
      " #   Column       Non-Null Count  Dtype  \n",
      "---  ------       --------------  -----  \n",
      " 0   PassengerId  891 non-null    int64  \n",
      " 1   Survived     891 non-null    int64  \n",
      " 2   Pclass       891 non-null    int64  \n",
      " 3   Name         891 non-null    object \n",
      " 4   Sex          891 non-null    object \n",
      " 5   Age          714 non-null    float64\n",
      " 6   SibSp        891 non-null    int64  \n",
      " 7   Parch        891 non-null    int64  \n",
      " 8   Ticket       891 non-null    object \n",
      " 9   Fare         891 non-null    float64\n",
      " 10  Cabin        204 non-null    object \n",
      " 11  Embarked     889 non-null    object \n",
      "dtypes: float64(2), int64(5), object(5)\n",
      "memory usage: 83.7+ KB\n"
     ]
    }
   ],
   "source": [
    "df_raw.info()"
   ]
  },
  {
   "cell_type": "code",
   "execution_count": 9,
   "metadata": {},
   "outputs": [
    {
     "data": {
      "text/html": [
       "<div>\n",
       "<style scoped>\n",
       "    .dataframe tbody tr th:only-of-type {\n",
       "        vertical-align: middle;\n",
       "    }\n",
       "\n",
       "    .dataframe tbody tr th {\n",
       "        vertical-align: top;\n",
       "    }\n",
       "\n",
       "    .dataframe thead th {\n",
       "        text-align: right;\n",
       "    }\n",
       "</style>\n",
       "<table border=\"1\" class=\"dataframe\">\n",
       "  <thead>\n",
       "    <tr style=\"text-align: right;\">\n",
       "      <th></th>\n",
       "      <th>PassengerId</th>\n",
       "      <th>Survived</th>\n",
       "      <th>Pclass</th>\n",
       "      <th>Name</th>\n",
       "      <th>Sex</th>\n",
       "      <th>Age</th>\n",
       "      <th>SibSp</th>\n",
       "      <th>Parch</th>\n",
       "      <th>Ticket</th>\n",
       "      <th>Fare</th>\n",
       "      <th>Cabin</th>\n",
       "      <th>Embarked</th>\n",
       "    </tr>\n",
       "  </thead>\n",
       "  <tbody>\n",
       "    <tr>\n",
       "      <th>count</th>\n",
       "      <td>891.000000</td>\n",
       "      <td>891.000000</td>\n",
       "      <td>891.000000</td>\n",
       "      <td>891</td>\n",
       "      <td>891</td>\n",
       "      <td>714.000000</td>\n",
       "      <td>891.000000</td>\n",
       "      <td>891.000000</td>\n",
       "      <td>891</td>\n",
       "      <td>891.000000</td>\n",
       "      <td>204</td>\n",
       "      <td>889</td>\n",
       "    </tr>\n",
       "    <tr>\n",
       "      <th>unique</th>\n",
       "      <td>NaN</td>\n",
       "      <td>NaN</td>\n",
       "      <td>NaN</td>\n",
       "      <td>891</td>\n",
       "      <td>2</td>\n",
       "      <td>NaN</td>\n",
       "      <td>NaN</td>\n",
       "      <td>NaN</td>\n",
       "      <td>681</td>\n",
       "      <td>NaN</td>\n",
       "      <td>147</td>\n",
       "      <td>3</td>\n",
       "    </tr>\n",
       "    <tr>\n",
       "      <th>top</th>\n",
       "      <td>NaN</td>\n",
       "      <td>NaN</td>\n",
       "      <td>NaN</td>\n",
       "      <td>Braund, Mr. Owen Harris</td>\n",
       "      <td>male</td>\n",
       "      <td>NaN</td>\n",
       "      <td>NaN</td>\n",
       "      <td>NaN</td>\n",
       "      <td>347082</td>\n",
       "      <td>NaN</td>\n",
       "      <td>B96 B98</td>\n",
       "      <td>S</td>\n",
       "    </tr>\n",
       "    <tr>\n",
       "      <th>freq</th>\n",
       "      <td>NaN</td>\n",
       "      <td>NaN</td>\n",
       "      <td>NaN</td>\n",
       "      <td>1</td>\n",
       "      <td>577</td>\n",
       "      <td>NaN</td>\n",
       "      <td>NaN</td>\n",
       "      <td>NaN</td>\n",
       "      <td>7</td>\n",
       "      <td>NaN</td>\n",
       "      <td>4</td>\n",
       "      <td>644</td>\n",
       "    </tr>\n",
       "    <tr>\n",
       "      <th>mean</th>\n",
       "      <td>446.000000</td>\n",
       "      <td>0.383838</td>\n",
       "      <td>2.308642</td>\n",
       "      <td>NaN</td>\n",
       "      <td>NaN</td>\n",
       "      <td>29.699118</td>\n",
       "      <td>0.523008</td>\n",
       "      <td>0.381594</td>\n",
       "      <td>NaN</td>\n",
       "      <td>32.204208</td>\n",
       "      <td>NaN</td>\n",
       "      <td>NaN</td>\n",
       "    </tr>\n",
       "    <tr>\n",
       "      <th>std</th>\n",
       "      <td>257.353842</td>\n",
       "      <td>0.486592</td>\n",
       "      <td>0.836071</td>\n",
       "      <td>NaN</td>\n",
       "      <td>NaN</td>\n",
       "      <td>14.526497</td>\n",
       "      <td>1.102743</td>\n",
       "      <td>0.806057</td>\n",
       "      <td>NaN</td>\n",
       "      <td>49.693429</td>\n",
       "      <td>NaN</td>\n",
       "      <td>NaN</td>\n",
       "    </tr>\n",
       "    <tr>\n",
       "      <th>min</th>\n",
       "      <td>1.000000</td>\n",
       "      <td>0.000000</td>\n",
       "      <td>1.000000</td>\n",
       "      <td>NaN</td>\n",
       "      <td>NaN</td>\n",
       "      <td>0.420000</td>\n",
       "      <td>0.000000</td>\n",
       "      <td>0.000000</td>\n",
       "      <td>NaN</td>\n",
       "      <td>0.000000</td>\n",
       "      <td>NaN</td>\n",
       "      <td>NaN</td>\n",
       "    </tr>\n",
       "    <tr>\n",
       "      <th>25%</th>\n",
       "      <td>223.500000</td>\n",
       "      <td>0.000000</td>\n",
       "      <td>2.000000</td>\n",
       "      <td>NaN</td>\n",
       "      <td>NaN</td>\n",
       "      <td>20.125000</td>\n",
       "      <td>0.000000</td>\n",
       "      <td>0.000000</td>\n",
       "      <td>NaN</td>\n",
       "      <td>7.910400</td>\n",
       "      <td>NaN</td>\n",
       "      <td>NaN</td>\n",
       "    </tr>\n",
       "    <tr>\n",
       "      <th>50%</th>\n",
       "      <td>446.000000</td>\n",
       "      <td>0.000000</td>\n",
       "      <td>3.000000</td>\n",
       "      <td>NaN</td>\n",
       "      <td>NaN</td>\n",
       "      <td>28.000000</td>\n",
       "      <td>0.000000</td>\n",
       "      <td>0.000000</td>\n",
       "      <td>NaN</td>\n",
       "      <td>14.454200</td>\n",
       "      <td>NaN</td>\n",
       "      <td>NaN</td>\n",
       "    </tr>\n",
       "    <tr>\n",
       "      <th>75%</th>\n",
       "      <td>668.500000</td>\n",
       "      <td>1.000000</td>\n",
       "      <td>3.000000</td>\n",
       "      <td>NaN</td>\n",
       "      <td>NaN</td>\n",
       "      <td>38.000000</td>\n",
       "      <td>1.000000</td>\n",
       "      <td>0.000000</td>\n",
       "      <td>NaN</td>\n",
       "      <td>31.000000</td>\n",
       "      <td>NaN</td>\n",
       "      <td>NaN</td>\n",
       "    </tr>\n",
       "    <tr>\n",
       "      <th>max</th>\n",
       "      <td>891.000000</td>\n",
       "      <td>1.000000</td>\n",
       "      <td>3.000000</td>\n",
       "      <td>NaN</td>\n",
       "      <td>NaN</td>\n",
       "      <td>80.000000</td>\n",
       "      <td>8.000000</td>\n",
       "      <td>6.000000</td>\n",
       "      <td>NaN</td>\n",
       "      <td>512.329200</td>\n",
       "      <td>NaN</td>\n",
       "      <td>NaN</td>\n",
       "    </tr>\n",
       "  </tbody>\n",
       "</table>\n",
       "</div>"
      ],
      "text/plain": [
       "        PassengerId    Survived      Pclass                     Name   Sex  \\\n",
       "count    891.000000  891.000000  891.000000                      891   891   \n",
       "unique          NaN         NaN         NaN                      891     2   \n",
       "top             NaN         NaN         NaN  Braund, Mr. Owen Harris  male   \n",
       "freq            NaN         NaN         NaN                        1   577   \n",
       "mean     446.000000    0.383838    2.308642                      NaN   NaN   \n",
       "std      257.353842    0.486592    0.836071                      NaN   NaN   \n",
       "min        1.000000    0.000000    1.000000                      NaN   NaN   \n",
       "25%      223.500000    0.000000    2.000000                      NaN   NaN   \n",
       "50%      446.000000    0.000000    3.000000                      NaN   NaN   \n",
       "75%      668.500000    1.000000    3.000000                      NaN   NaN   \n",
       "max      891.000000    1.000000    3.000000                      NaN   NaN   \n",
       "\n",
       "               Age       SibSp       Parch  Ticket        Fare    Cabin  \\\n",
       "count   714.000000  891.000000  891.000000     891  891.000000      204   \n",
       "unique         NaN         NaN         NaN     681         NaN      147   \n",
       "top            NaN         NaN         NaN  347082         NaN  B96 B98   \n",
       "freq           NaN         NaN         NaN       7         NaN        4   \n",
       "mean     29.699118    0.523008    0.381594     NaN   32.204208      NaN   \n",
       "std      14.526497    1.102743    0.806057     NaN   49.693429      NaN   \n",
       "min       0.420000    0.000000    0.000000     NaN    0.000000      NaN   \n",
       "25%      20.125000    0.000000    0.000000     NaN    7.910400      NaN   \n",
       "50%      28.000000    0.000000    0.000000     NaN   14.454200      NaN   \n",
       "75%      38.000000    1.000000    0.000000     NaN   31.000000      NaN   \n",
       "max      80.000000    8.000000    6.000000     NaN  512.329200      NaN   \n",
       "\n",
       "       Embarked  \n",
       "count       889  \n",
       "unique        3  \n",
       "top           S  \n",
       "freq        644  \n",
       "mean        NaN  \n",
       "std         NaN  \n",
       "min         NaN  \n",
       "25%         NaN  \n",
       "50%         NaN  \n",
       "75%         NaN  \n",
       "max         NaN  "
      ]
     },
     "execution_count": 9,
     "metadata": {},
     "output_type": "execute_result"
    }
   ],
   "source": [
    "df_raw.describe(include='all')"
   ]
  },
  {
   "cell_type": "code",
   "execution_count": 10,
   "metadata": {},
   "outputs": [
    {
     "data": {
      "text/plain": [
       "Cabin          687\n",
       "Age            177\n",
       "Embarked         2\n",
       "PassengerId      0\n",
       "Survived         0\n",
       "Pclass           0\n",
       "Name             0\n",
       "Sex              0\n",
       "SibSp            0\n",
       "Parch            0\n",
       "Ticket           0\n",
       "Fare             0\n",
       "dtype: int64"
      ]
     },
     "execution_count": 10,
     "metadata": {},
     "output_type": "execute_result"
    }
   ],
   "source": [
    "df_raw.isna().sum().sort_values(ascending=False)"
   ]
  },
  {
   "cell_type": "markdown",
   "metadata": {},
   "source": [
    "### Exploratory Data Analysis "
   ]
  },
  {
   "cell_type": "code",
   "execution_count": 11,
   "metadata": {},
   "outputs": [],
   "source": [
    "# Copy the dataframe\n",
    "df = df_raw.copy()\n",
    "\n",
    "# Drop the columns that are not needed\n",
    "df = df.drop(['PassengerId', 'Name', 'Ticket', 'Cabin'], axis=1)\n"
   ]
  },
  {
   "cell_type": "code",
   "execution_count": 12,
   "metadata": {},
   "outputs": [
    {
     "data": {
      "image/png": "[encoded data removed]",
      "text/plain": [
       "<Figure size 640x480 with 1 Axes>"
      ]
     },
     "metadata": {},
     "output_type": "display_data"
    }
   ],
   "source": [
    "# Distribution of the target variable\n",
    "\n",
    "sns.countplot( x='Survived', data=df)\n",
    "plt.title('Distribution of the target variable')\n",
    "plt.show()"
   ]
  },
  {
   "cell_type": "code",
   "execution_count": 13,
   "metadata": {},
   "outputs": [
    {
     "data": {
      "image/png": "[encoded data removed]",
      "text/plain": [
       "<Figure size 640x480 with 1 Axes>"
      ]
     },
     "metadata": {},
     "output_type": "display_data"
    },
    {
     "data": {
      "image/png": "[encoded data removed]",
      "text/plain": [
       "<Figure size 640x480 with 1 Axes>"
      ]
     },
     "metadata": {},
     "output_type": "display_data"
    },
    {
     "data": {
      "image/png": "[encoded data removed]",
      "text/plain": [
       "<Figure size 640x480 with 1 Axes>"
      ]
     },
     "metadata": {},
     "output_type": "display_data"
    }
   ],
   "source": [
    "# Violine plot\n",
    "\n",
    "sns.violinplot(x='Sex', y='Age', data=df, hue='Survived')\n",
    "plt.title('Violin plot for Sex')\n",
    "plt.show()\n",
    "\n",
    "\n",
    "sns.violinplot(x='Pclass', y='Age', data=df, hue='Survived')\n",
    "plt.title('Violin plot for Age by Pclass')\n",
    "plt.show()\n",
    "\n",
    "\n",
    "sns.violinplot(x='Sex', y='Pclass', data=df, hue='Survived')\n",
    "plt.title('Box plot for Pclass')\n",
    "plt.show()"
   ]
  },
  {
   "cell_type": "code",
   "execution_count": 14,
   "metadata": {},
   "outputs": [],
   "source": [
    "# Copy the dataframe\n",
    "df_eda = df.copy()"
   ]
  },
  {
   "cell_type": "code",
   "execution_count": 15,
   "metadata": {},
   "outputs": [
    {
     "data": {
      "image/png": "[encoded data removed]",
      "text/plain": [
       "<Figure size 1000x800 with 2 Axes>"
      ]
     },
     "metadata": {},
     "output_type": "display_data"
    }
   ],
   "source": [
    "from sklearn.preprocessing import LabelEncoder\n",
    "\n",
    "# Transform categorical variables \n",
    "label_encoder = LabelEncoder()\n",
    "df_eda['Sex'] = label_encoder.fit_transform(df_eda['Sex'])\n",
    "df_eda['Embarked'] = label_encoder.fit_transform(df_eda['Embarked'])\n",
    "\n",
    "# Correlation matrix\n",
    "corr = df_eda.corr('spearman').abs()\n",
    "\n",
    "plt.figure(figsize=(10, 8))\n",
    "sns.heatmap(corr, annot=True, cmap='YlGnBu', fmt=\".2f\")\n",
    "plt.title('Correlation matrix')\n",
    "plt.show()\n"
   ]
  },
  {
   "cell_type": "markdown",
   "metadata": {},
   "source": [
    "### Preprocessing"
   ]
  },
  {
   "cell_type": "code",
   "execution_count": 16,
   "metadata": {},
   "outputs": [],
   "source": [
    "from sklearn.model_selection import train_test_split\n",
    "\n",
    "\n",
    "# Define the features and the target\n",
    "X = df.drop('Survived', axis=1)\n",
    "y = df['Survived']\n",
    "\n",
    "# Split the data into training and testing sets\n",
    "X_train, X_test, y_train, y_test = train_test_split(X, y, test_size=0.3, random_state=42)\n"
   ]
  },
  {
   "cell_type": "code",
   "execution_count": 17,
   "metadata": {},
   "outputs": [
    {
     "name": "stdout",
     "output_type": "stream",
     "text": [
      "(623, 10)\n",
      "(268, 10)\n",
      "(623,)\n",
      "(268,)\n"
     ]
    }
   ],
   "source": [
    "from sklearn.pipeline import Pipeline\n",
    "from sklearn.compose import ColumnTransformer\n",
    "from sklearn.impute import SimpleImputer\n",
    "from sklearn.preprocessing import OneHotEncoder, OrdinalEncoder, RobustScaler\n",
    "import pandas as pd\n",
    "from scripts.skewness_fixer import SkewnessFixer\n",
    "\n",
    "# Define the numerical and categorical features\n",
    "numerical_features = ['Age', 'Fare']\n",
    "categorical_features = ['Sex', 'Embarked']\n",
    "ordinal_features = ['Pclass', 'SibSp', 'Parch']\n",
    "\n",
    "# Define preprocessing for numerical features (Imputation only + Skewness Fixer)\n",
    "numerical_transformer = Pipeline(steps=[\n",
    "    ('imputer', SimpleImputer(strategy='median')),\n",
    "    ('skewness_fixer', SkewnessFixer(skewness_threshold=0.5, boxcox_lambda=0.15))\n",
    "])\n",
    "\n",
    "# Define preprocessing for categorical features (Imputation + OneHotEncoder)\n",
    "categorical_transformer = Pipeline(steps=[\n",
    "    ('imputer', SimpleImputer(strategy='most_frequent')),\n",
    "    ('onehot', OneHotEncoder(handle_unknown='ignore'))\n",
    "])\n",
    "\n",
    "# Define preprocessing for ordinal features (Imputation + OrdinalEncoder)\n",
    "ordinal_transformer = Pipeline(steps=[\n",
    "    ('imputer', SimpleImputer(strategy='most_frequent')),\n",
    "    ('ordinal', OrdinalEncoder())\n",
    "])\n",
    "\n",
    "# Combine preprocessing steps for each type of feature (without scaling)\n",
    "preprocessor = ColumnTransformer(\n",
    "    transformers=[\n",
    "        ('num', numerical_transformer, numerical_features),\n",
    "        ('cat', categorical_transformer, categorical_features),\n",
    "        ('ord', ordinal_transformer, ordinal_features)\n",
    "    ]\n",
    ")\n",
    "\n",
    "# Fit and transform the training data without scaling\n",
    "X_train_noscaled = preprocessor.fit_transform(X_train)\n",
    "X_test_noscaled = preprocessor.transform(X_test)\n",
    "\n",
    "# Define the full pipeline with scaling applied after encoding\n",
    "pipeline = Pipeline(steps=[\n",
    "    ('preprocessor', preprocessor),   # Apply all feature transformations\n",
    "    ('scaler', RobustScaler())        # Apply scaling after encoding\n",
    "])\n",
    "\n",
    "# Fit and transform the training data\n",
    "X_train_scaled = pipeline.fit_transform(X_train)\n",
    "X_test_scaled = pipeline.transform(X_test)\n",
    "\n",
    "# Extract categorical feature names from the OneHotEncoder\n",
    "cat_feature_names = pipeline.named_steps['preprocessor']\\\n",
    "                            .named_transformers_['cat']\\\n",
    "                            .named_steps['onehot']\\\n",
    "                            .get_feature_names_out(categorical_features)\n",
    "\n",
    "# Manually concatenate feature names for all parts (numerical, categorical, ordinal)\n",
    "feature_names = list(numerical_features) + list(cat_feature_names) + list(ordinal_features)\n",
    "\n",
    "# Convert the scaled data into a DataFrame with the correct column names\n",
    "X_train_scaled_df = pd.DataFrame(X_train_scaled, index=X_train.index, columns=feature_names)\n",
    "X_test_scaled_df = pd.DataFrame(X_test_scaled, index=X_test.index, columns=feature_names)\n",
    "\n",
    "# Convert the noscaled data into a DataFrame with the correct column names\n",
    "X_train_noscaled_df = pd.DataFrame(X_train_noscaled, index=X_train.index, columns=feature_names)\n",
    "X_test_noscaled_df = pd.DataFrame(X_test_noscaled, index=X_test.index, columns=feature_names)\n",
    "\n",
    "# Verify the shapes\n",
    "print(X_train_scaled_df.shape)\n",
    "print(X_test_scaled_df.shape)\n",
    "print(y_train.shape)\n",
    "print(y_test.shape)\n",
    "\n"
   ]
  },
  {
   "cell_type": "markdown",
   "metadata": {},
   "source": [
    "### Model training"
   ]
  },
  {
   "cell_type": "code",
   "execution_count": 18,
   "metadata": {},
   "outputs": [
    {
     "name": "stderr",
     "output_type": "stream",
     "text": [
      "Evaluating models: 100%|██████████| 8/8 [00:06<00:00,  1.26it/s]\n"
     ]
    },
    {
     "data": {
      "text/markdown": [
       "### Model Evaluation\n",
       "\n",
       "| <center> Model                </center> | <center>   Accuracy Train </center> | <center>   Accuracy Test </center> | <center>   Precision Train </center> | <center>   Precision Test </center> | <center>   Recall Train </center> | <center>   Recall Test </center> | <center>   F1 Train </center> | <center>   F1 Test </center> | <center>   MCC Train </center> | <center>   MCC Test </center> |\n",
       "|:---------------------|-----------------:|----------------:|------------------:|-----------------:|---------------:|--------------:|-----------:|----------:|------------:|-----------:|\n",
       "| Logistic Regression  |         0.725522 |        0.757463 |          0.772433 |         0.80167  |       0.725522 |      0.757463 |   0.729847 |  0.757615 |    0.485562 |   0.55887  |\n",
       "| KNN                  |         0.842697 |        0.802239 |          0.848071 |         0.807042 |       0.842697 |      0.802239 |   0.836823 |  0.796983 |    0.659305 |   0.590348 |\n",
       "| Gaussian Naive Bayes |         0.783307 |        0.779851 |          0.783909 |         0.781683 |       0.783307 |      0.779851 |   0.783589 |  0.780494 |    0.536862 |   0.549711 |\n",
       "| Decision Tree        |         0.784912 |        0.791045 |          0.7824   |         0.789921 |       0.784912 |      0.791045 |   0.782966 |  0.789341 |    0.532598 |   0.565364 |\n",
       "| Random Forest        |         0.425361 |        0.447761 |          0.774632 |         0.763326 |       0.425361 |      0.447761 |   0.309344 |  0.31203  |    0.184436 |   0.156741 |\n",
       "| Extra Trees          |         0.869984 |        0.768657 |          0.879378 |         0.788712 |       0.869984 |      0.768657 |   0.871584 |  0.770287 |    0.735841 |   0.552293 |\n",
       "| AdaBoost             |         0.786517 |        0.791045 |          0.783956 |         0.789921 |       0.786517 |      0.791045 |   0.784464 |  0.789341 |    0.535803 |   0.565364 |\n",
       "| Neural Networks      |         0.839486 |        0.809701 |          0.841016 |         0.81249  |       0.839486 |      0.809701 |   0.83506  |  0.805725 |    0.650243 |   0.605074 |\n",
       "\n"
      ],
      "text/plain": [
       "<IPython.core.display.Markdown object>"
      ]
     },
     "metadata": {},
     "output_type": "display_data"
    }
   ],
   "source": [
    "from sklearn.model_selection import StratifiedKFold\n",
    "from scripts.ml_class import ml_class_im\n",
    "from scripts.eval_class import evaluate_models\n",
    "\n",
    "# Define random state\n",
    "rs = 42\n",
    "\n",
    "# Use Stratified KFold for preserving the class distribution in cross-validation\n",
    "cv = StratifiedKFold(n_splits=5)\n",
    "\n",
    "# Initialize the models\n",
    "models = ml_class_im(cv, rs)\n",
    "\n",
    "# Evaluate the models\n",
    "parameters, markdown_content = evaluate_models(models, X_train_scaled, X_test_scaled, y_train, y_test)\n",
    "\n",
    "# Display the results\n",
    "display(Markdown(markdown_content))"
   ]
  },
  {
   "cell_type": "markdown",
   "metadata": {},
   "source": [
    "### Stack the models"
   ]
  },
  {
   "cell_type": "code",
   "execution_count": 15,
   "metadata": {},
   "outputs": [
    {
     "name": "stderr",
     "output_type": "stream",
     "text": [
      "Evaluating models: 100%|██████████| 3/3 [00:04<00:00,  1.49s/it]\n"
     ]
    },
    {
     "data": {
      "text/markdown": [
       "### Model Evaluation\n",
       "\n",
       "| <center> Model            </center> | <center>   Accuracy Train </center> | <center>   Accuracy Test </center> | <center>   Precision Train </center> | <center>   Precision Test </center> | <center>   Recall Train </center> | <center>   Recall Test </center> | <center>   F1 Train </center> | <center>   F1 Test </center> | <center>   MCC Train </center> | <center>   MCC Test </center> |\n",
       "|:-----------------|-----------------:|----------------:|------------------:|-----------------:|---------------:|--------------:|-----------:|----------:|------------:|-----------:|\n",
       "| Stacking Model 1 |         0.82183  |        0.798507 |          0.82023  |         0.798646 |       0.82183  |      0.798507 |   0.818811 |  0.795567 |    0.611022 |   0.580427 |\n",
       "| Stacking Model 2 |         0.808989 |        0.794776 |          0.806916 |         0.793809 |       0.808989 |      0.794776 |   0.807152 |  0.7929   |    0.584899 |   0.572977 |\n",
       "| Stacking Model 3 |         0.834671 |        0.813433 |          0.833176 |         0.813515 |       0.834671 |      0.813433 |   0.832696 |  0.811136 |    0.640375 |   0.611994 |\n",
       "\n"
      ],
      "text/plain": [
       "<IPython.core.display.Markdown object>"
      ]
     },
     "metadata": {},
     "output_type": "display_data"
    }
   ],
   "source": [
    "from sklearn.ensemble import StackingClassifier\n",
    "from sklearn.linear_model import LogisticRegression\n",
    "\n",
    "# Stack the models\n",
    "estimators1 = [('KNN', parameters['KNN']), ('Decision Tree', parameters['Decision Tree']), ('Gaussian Naive Bayes', parameters['Gaussian Naive Bayes'])]\n",
    "stacking_model1 = StackingClassifier(estimators=estimators1, final_estimator=LogisticRegression(), cv=cv, n_jobs=-1)\n",
    "\n",
    "estimators2 = [('Random Forest', parameters['Random Forest']), ('Extra Trees', parameters['Extra Trees']), ('AdaBoost', parameters['AdaBoost'])]\n",
    "stacking_model2 = StackingClassifier(estimators=estimators2, final_estimator=LogisticRegression(), cv=cv, n_jobs=-1)\n",
    "\n",
    "estimators3 = [('KNN', parameters['KNN']), ('Decision Tree', parameters['Decision Tree']), ('Gaussian Naive Bayes', parameters['Gaussian Naive Bayes']), ('Random Forest', parameters['Random Forest']), ('Extra Trees', parameters['Extra Trees']), ('AdaBoost', parameters['AdaBoost'])]\n",
    "stacking_model3 = StackingClassifier(estimators=estimators3, final_estimator=LogisticRegression(), cv=cv, n_jobs=-1)\n",
    "\n",
    "# Models dictionary\n",
    "models_stacked = {\n",
    "    'Stacking Model 1': stacking_model1,\n",
    "    'Stacking Model 2': stacking_model2,\n",
    "    'Stacking Model 3': stacking_model3\n",
    "}\n",
    "\n",
    "# Evaluate the models\n",
    "_ , markdown_stacked_content = evaluate_models(models_stacked, X_train_scaled, X_test_scaled, y_train, y_test)\n",
    "\n",
    "# Display the results\n",
    "display(Markdown(markdown_stacked_content))"
   ]
  },
  {
   "cell_type": "markdown",
   "metadata": {},
   "source": [
    "### Bagging"
   ]
  },
  {
   "cell_type": "code",
   "execution_count": 16,
   "metadata": {},
   "outputs": [
    {
     "name": "stdout",
     "output_type": "stream",
     "text": [
      "Train F1 Score: 0.7771324136434757\n",
      "Test F1 Score: 0.7569662306028861\n"
     ]
    }
   ],
   "source": [
    "from sklearn.ensemble import BaggingClassifier\n",
    "\n",
    "# Define the base model\n",
    "base_model = parameters['Random Forest']\n",
    "\n",
    "# Apply Bagging with 50 estimators (you can change n_estimators as needed)\n",
    "bagging_model = BaggingClassifier(estimator=base_model, n_estimators=50, random_state=rs, n_jobs=-1)\n",
    "\n",
    "# Fit the bagging model to training data\n",
    "bagging_model.fit(X_train_scaled, y_train)\n",
    "\n",
    "# Make predictions\n",
    "y_pred_train = bagging_model.predict(X_train_scaled)\n",
    "y_pred_test = bagging_model.predict(X_test_scaled)\n",
    "\n",
    "# Evaluate the model \n",
    "_,_,f1_train,_ = precision_recall_fscore_support(y_train, y_pred_train, average='weighted')\n",
    "_,_,f1_test,_ = precision_recall_fscore_support(y_test, y_pred_test, average='weighted')\n",
    "\n",
    "\n",
    "# Display the evaluation metrics for the trained model and test data\n",
    "print(\"Train F1 Score:\", f1_train)\n",
    "print(\"Test F1 Score:\", f1_test)"
   ]
  },
  {
   "cell_type": "markdown",
   "metadata": {},
   "source": [
    "### Feature Engineering"
   ]
  },
  {
   "cell_type": "code",
   "execution_count": 17,
   "metadata": {},
   "outputs": [
    {
     "name": "stderr",
     "output_type": "stream",
     "text": [
      "Evaluating models:   0%|          | 0/8 [00:00<?, ?it/s]/home/anzoar/miniconda3/envs/MLProjects/lib/python3.11/site-packages/sklearn/linear_model/_sag.py:349: ConvergenceWarning: The max_iter was reached which means the coef_ did not converge\n",
      "  warnings.warn(\n",
      "/home/anzoar/miniconda3/envs/MLProjects/lib/python3.11/site-packages/sklearn/linear_model/_sag.py:349: ConvergenceWarning: The max_iter was reached which means the coef_ did not converge\n",
      "  warnings.warn(\n",
      "/home/anzoar/miniconda3/envs/MLProjects/lib/python3.11/site-packages/sklearn/linear_model/_sag.py:349: ConvergenceWarning: The max_iter was reached which means the coef_ did not converge\n",
      "  warnings.warn(\n",
      "/home/anzoar/miniconda3/envs/MLProjects/lib/python3.11/site-packages/sklearn/linear_model/_sag.py:349: ConvergenceWarning: The max_iter was reached which means the coef_ did not converge\n",
      "  warnings.warn(\n",
      "/home/anzoar/miniconda3/envs/MLProjects/lib/python3.11/site-packages/sklearn/linear_model/_sag.py:349: ConvergenceWarning: The max_iter was reached which means the coef_ did not converge\n",
      "  warnings.warn(\n",
      "/home/anzoar/miniconda3/envs/MLProjects/lib/python3.11/site-packages/sklearn/linear_model/_sag.py:349: ConvergenceWarning: The max_iter was reached which means the coef_ did not converge\n",
      "  warnings.warn(\n",
      "/home/anzoar/miniconda3/envs/MLProjects/lib/python3.11/site-packages/sklearn/linear_model/_sag.py:349: ConvergenceWarning: The max_iter was reached which means the coef_ did not converge\n",
      "  warnings.warn(\n",
      "/home/anzoar/miniconda3/envs/MLProjects/lib/python3.11/site-packages/sklearn/linear_model/_sag.py:349: ConvergenceWarning: The max_iter was reached which means the coef_ did not converge\n",
      "  warnings.warn(\n",
      "/home/anzoar/miniconda3/envs/MLProjects/lib/python3.11/site-packages/sklearn/linear_model/_sag.py:349: ConvergenceWarning: The max_iter was reached which means the coef_ did not converge\n",
      "  warnings.warn(\n",
      "/home/anzoar/miniconda3/envs/MLProjects/lib/python3.11/site-packages/sklearn/linear_model/_sag.py:349: ConvergenceWarning: The max_iter was reached which means the coef_ did not converge\n",
      "  warnings.warn(\n",
      "/home/anzoar/miniconda3/envs/MLProjects/lib/python3.11/site-packages/sklearn/linear_model/_sag.py:349: ConvergenceWarning: The max_iter was reached which means the coef_ did not converge\n",
      "  warnings.warn(\n",
      "/home/anzoar/miniconda3/envs/MLProjects/lib/python3.11/site-packages/sklearn/linear_model/_sag.py:349: ConvergenceWarning: The max_iter was reached which means the coef_ did not converge\n",
      "  warnings.warn(\n",
      "/home/anzoar/miniconda3/envs/MLProjects/lib/python3.11/site-packages/sklearn/linear_model/_sag.py:349: ConvergenceWarning: The max_iter was reached which means the coef_ did not converge\n",
      "  warnings.warn(\n",
      "/home/anzoar/miniconda3/envs/MLProjects/lib/python3.11/site-packages/sklearn/linear_model/_sag.py:349: ConvergenceWarning: The max_iter was reached which means the coef_ did not converge\n",
      "  warnings.warn(\n",
      "/home/anzoar/miniconda3/envs/MLProjects/lib/python3.11/site-packages/sklearn/linear_model/_sag.py:349: ConvergenceWarning: The max_iter was reached which means the coef_ did not converge\n",
      "  warnings.warn(\n",
      "/home/anzoar/miniconda3/envs/MLProjects/lib/python3.11/site-packages/sklearn/linear_model/_sag.py:349: ConvergenceWarning: The max_iter was reached which means the coef_ did not converge\n",
      "  warnings.warn(\n",
      "/home/anzoar/miniconda3/envs/MLProjects/lib/python3.11/site-packages/sklearn/linear_model/_sag.py:349: ConvergenceWarning: The max_iter was reached which means the coef_ did not converge\n",
      "  warnings.warn(\n",
      "/home/anzoar/miniconda3/envs/MLProjects/lib/python3.11/site-packages/sklearn/linear_model/_sag.py:349: ConvergenceWarning: The max_iter was reached which means the coef_ did not converge\n",
      "  warnings.warn(\n",
      "/home/anzoar/miniconda3/envs/MLProjects/lib/python3.11/site-packages/sklearn/linear_model/_sag.py:349: ConvergenceWarning: The max_iter was reached which means the coef_ did not converge\n",
      "  warnings.warn(\n",
      "Evaluating models: 100%|██████████| 8/8 [00:06<00:00,  1.22it/s]\n"
     ]
    },
    {
     "data": {
      "text/markdown": [
       "### Model Evaluation\n",
       "\n",
       "| <center> Model                </center> | <center>   Accuracy Train </center> | <center>   Accuracy Test </center> | <center>   Precision Train </center> | <center>   Precision Test </center> | <center>   Recall Train </center> | <center>   Recall Test </center> | <center>   F1 Train </center> | <center>   F1 Test </center> | <center>   MCC Train </center> | <center>   MCC Test </center> |\n",
       "|:---------------------|-----------------:|----------------:|------------------:|-----------------:|---------------:|--------------:|-----------:|----------:|------------:|-----------:|\n",
       "| Logistic Regression  |         0.76886  |        0.772388 |          0.799445 |         0.804291 |       0.76886  |      0.772388 |   0.77278  |  0.773445 |    0.552822 |   0.574329 |\n",
       "| KNN                  |         0.829856 |        0.802239 |          0.838695 |         0.810256 |       0.829856 |      0.802239 |   0.821637 |  0.795741 |    0.632365 |   0.592397 |\n",
       "| Gaussian Naive Bayes |         0.778491 |        0.791045 |          0.777408 |         0.792402 |       0.778491 |      0.791045 |   0.777875 |  0.791546 |    0.522845 |   0.571933 |\n",
       "| Decision Tree        |         0.786517 |        0.791045 |          0.783524 |         0.790899 |       0.786517 |      0.791045 |   0.782329 |  0.787996 |    0.531908 |   0.564592 |\n",
       "| Random Forest        |         0.831461 |        0.794776 |          0.839993 |         0.801003 |       0.831461 |      0.794776 |   0.833376 |  0.796021 |    0.653077 |   0.587068 |\n",
       "| Extra Trees          |         0.807384 |        0.764925 |          0.819874 |         0.777758 |       0.807384 |      0.764925 |   0.809958 |  0.766659 |    0.607983 |   0.535292 |\n",
       "| AdaBoost             |         0.799358 |        0.783582 |          0.830762 |         0.815673 |       0.799358 |      0.783582 |   0.780075 |  0.768079 |    0.577285 |   0.569978 |\n",
       "| Neural Networks      |         0.855538 |        0.798507 |          0.85822  |         0.800166 |       0.855538 |      0.798507 |   0.851554 |  0.794565 |    0.686608 |   0.580816 |\n",
       "\n"
      ],
      "text/plain": [
       "<IPython.core.display.Markdown object>"
      ]
     },
     "metadata": {},
     "output_type": "display_data"
    }
   ],
   "source": [
    "# Polynomial features\n",
    "\n",
    "from sklearn.preprocessing import PolynomialFeatures\n",
    "\n",
    "polynomial = PolynomialFeatures(degree=2, include_bias=False, interaction_only=True)\n",
    "\n",
    "# Fit and transform the training scaled data\n",
    "X_train_poly = polynomial.fit_transform(X_train_scaled_df)\n",
    "X_test_poly = polynomial.transform(X_test_scaled_df)\n",
    "\n",
    "# Evaluate the models with polynomial features\n",
    "_ , markdown_poly_content = evaluate_models(models, X_train_poly, X_test_poly, y_train, y_test)\n",
    "\n",
    "# Display the results\n",
    "display(Markdown(markdown_poly_content))"
   ]
  },
  {
   "cell_type": "markdown",
   "metadata": {},
   "source": [
    "### Model trainig with kernel approximation"
   ]
  },
  {
   "cell_type": "code",
   "execution_count": 18,
   "metadata": {},
   "outputs": [
    {
     "name": "stderr",
     "output_type": "stream",
     "text": [
      "Evaluating models:   0%|          | 0/7 [00:00<?, ?it/s]"
     ]
    },
    {
     "name": "stdout",
     "output_type": "stream",
     "text": [
      "Fitting 5 folds for each of 15 candidates, totalling 75 fits\n"
     ]
    },
    {
     "name": "stderr",
     "output_type": "stream",
     "text": [
      "Evaluating models:  43%|████▎     | 3/7 [00:00<00:00,  8.05it/s]"
     ]
    },
    {
     "name": "stdout",
     "output_type": "stream",
     "text": [
      "Fitting 5 folds for each of 5 candidates, totalling 25 fits\n",
      "Fitting 5 folds for each of 27 candidates, totalling 135 fits\n",
      "Fitting 5 folds for each of 30 candidates, totalling 150 fits\n"
     ]
    },
    {
     "name": "stderr",
     "output_type": "stream",
     "text": [
      "Evaluating models:  57%|█████▋    | 4/7 [00:00<00:00,  5.65it/s]"
     ]
    },
    {
     "name": "stdout",
     "output_type": "stream",
     "text": [
      "Fitting 5 folds for each of 30 candidates, totalling 150 fits\n"
     ]
    },
    {
     "name": "stderr",
     "output_type": "stream",
     "text": [
      "Evaluating models:  71%|███████▏  | 5/7 [00:01<00:00,  4.42it/s]"
     ]
    },
    {
     "name": "stdout",
     "output_type": "stream",
     "text": [
      "Fitting 5 folds for each of 30 candidates, totalling 150 fits\n"
     ]
    },
    {
     "name": "stderr",
     "output_type": "stream",
     "text": [
      "Evaluating models:  86%|████████▌ | 6/7 [00:01<00:00,  3.30it/s]"
     ]
    },
    {
     "name": "stdout",
     "output_type": "stream",
     "text": [
      "Fitting 5 folds for each of 30 candidates, totalling 150 fits\n"
     ]
    },
    {
     "name": "stderr",
     "output_type": "stream",
     "text": [
      "Evaluating models: 100%|██████████| 7/7 [00:01<00:00,  3.65it/s]\n"
     ]
    },
    {
     "data": {
      "text/markdown": [
       "### Model Evaluation\n",
       "\n",
       "| <center> Model                                    </center> | <center>   Accuracy Train </center> | <center>   Accuracy Test </center> | <center>   Precision Train </center> | <center>   Precision Test </center> | <center>   Recall Train </center> | <center>   Recall Test </center> | <center>   F1 Train </center> | <center>   F1 Test </center> | <center>   MCC Train </center> | <center>   MCC Test </center> |\n",
       "|:-----------------------------------------|-----------------:|----------------:|------------------:|-----------------:|---------------:|--------------:|-----------:|----------:|------------:|-----------:|\n",
       "| Kernel SVR                               |         0.857143 |        0.809701 |          0.863605 |         0.816663 |       0.857143 |      0.809701 |   0.851931 |  0.804061 |    0.692428 |   0.607606 |\n",
       "| Linear SVR                               |         0.797753 |        0.798507 |          0.795652 |         0.79753  |       0.797753 |      0.798507 |   0.796148 |  0.796865 |    0.56118  |   0.580995 |\n",
       "| SGD Regressor                            |         0.784912 |        0.791045 |          0.7824   |         0.789921 |       0.784912 |      0.791045 |   0.782966 |  0.789341 |    0.532598 |   0.565364 |\n",
       "| Fourier Approximation with Linear SVR    |         0.853933 |        0.813433 |          0.860872 |         0.823557 |       0.853933 |      0.813433 |   0.848352 |  0.806992 |    0.685542 |   0.617774 |\n",
       "| Fourier Approximation with SGDRegressor  |         0.853933 |        0.813433 |          0.860872 |         0.823557 |       0.853933 |      0.813433 |   0.848352 |  0.806992 |    0.685542 |   0.617774 |\n",
       "| Nystroem Approximation with Linear SVR   |         0.852327 |        0.80597  |          0.856537 |         0.809103 |       0.852327 |      0.80597  |   0.847556 |  0.801651 |    0.680251 |   0.597339 |\n",
       "| Nystroem Approximation with SGDRegressor |         0.849117 |        0.809701 |          0.856793 |         0.822713 |       0.849117 |      0.809701 |   0.842953 |  0.802137 |    0.675202 |   0.61192  |\n",
       "\n"
      ],
      "text/plain": [
       "<IPython.core.display.Markdown object>"
      ]
     },
     "metadata": {},
     "output_type": "display_data"
    }
   ],
   "source": [
    "from sklearn.kernel_approximation import Nystroem, RBFSampler\n",
    "from sklearn.linear_model import SGDClassifier\n",
    "from sklearn.svm import LinearSVC, SVC\n",
    "from sklearn.pipeline import Pipeline\n",
    "from sklearn.model_selection import GridSearchCV\n",
    "\n",
    "# Kernel SVR\n",
    "kernel_svr = SVC()\n",
    "param_grid = {\n",
    "    'gamma': [0.001, 0.01, 0.1],\n",
    "    'C': [0.01, 0.1, 1, 10, 100],\n",
    "    }\n",
    "kernel_svr_grid_search = GridSearchCV(estimator=kernel_svr, param_grid=param_grid, cv=cv, n_jobs=-1, verbose=1)\n",
    "\n",
    "# Linear SVR\n",
    "linear_svr = LinearSVC(random_state=rs)\n",
    "param_grid = {\n",
    "    'C': [0.001, 0.1, 1, 10, 100],\n",
    "}\n",
    "linear_svr_grid_search = GridSearchCV(estimator=linear_svr, param_grid=param_grid, cv=cv, n_jobs=-1, verbose=1)\n",
    "\n",
    "# SGD Regressor\n",
    "sgd_reg = SGDClassifier(random_state=rs, max_iter=3000)\n",
    "param_grid = {\n",
    "    'alpha': [0.0001, 0.001, 0.01],\n",
    "    'eta0': [0.01, 0.1, 1],\n",
    "    'learning_rate': ['constant', 'optimal', 'invscaling']\n",
    "}\n",
    "sgd_reg_grid_search = GridSearchCV(estimator=sgd_reg, param_grid=param_grid, cv=cv, n_jobs=-1, verbose=1)\n",
    "\n",
    "# Create pipeline from kernel approximation\n",
    "# and linear support vector regression (SVR) or SGDRegressor\n",
    "feature_map_fourier = RBFSampler(random_state=rs)\n",
    "feature_map_nystroem = Nystroem(random_state=rs)\n",
    "\n",
    "# Fourier Approximation with Linear SVR\n",
    "fourier_approx_svr = Pipeline(\n",
    "    [\n",
    "        (\"feature_map\", feature_map_fourier),\n",
    "        (\"svr\", linear_svr),\n",
    "    ]\n",
    ")\n",
    "param_grid = {\n",
    "    'feature_map__gamma': [0.001, 0.01, 0.1],\n",
    "    'feature_map__n_components': np.arange(100,200,10)\n",
    "}\n",
    "fourier_approx_sgd_grid_search = GridSearchCV(estimator=fourier_approx_svr, param_grid=param_grid, cv=cv, n_jobs=-1, verbose=1)\n",
    "\n",
    "\n",
    "# Fourier Approximation with SGDRegressor\n",
    "fourier_approx_sgd = Pipeline(\n",
    "    [\n",
    "        (\"feature_map\", feature_map_fourier),\n",
    "        (\"sgd\", sgd_reg),\n",
    "    ]\n",
    ")\n",
    "param_grid = {\n",
    "    'feature_map__gamma': [0.001, 0.01, 0.1],\n",
    "    'feature_map__n_components': np.arange(100,200,10) \n",
    "}\n",
    "fourier_approx_sgd_grid_search = GridSearchCV(estimator=fourier_approx_sgd, param_grid=param_grid, cv=cv, n_jobs=-1, verbose=1)\n",
    "\n",
    "# Nystroem Approximation with Linear SVR\n",
    "nystroem_approx_svr = Pipeline(\n",
    "    [\n",
    "        (\"feature_map\", feature_map_nystroem),\n",
    "        (\"svr\", linear_svr),\n",
    "    ]\n",
    ")\n",
    "param_grid = {\n",
    "    'feature_map__gamma': [0.001, 0.01, 0.1],\n",
    "    'feature_map__n_components': np.arange(100,200,10)\n",
    "}\n",
    "nystroem_approx_svr_grid_search = GridSearchCV(estimator=nystroem_approx_svr, param_grid=param_grid, cv=cv, n_jobs=-1, verbose=1)\n",
    "\n",
    "# Nystroem Approximation with SGDRegressor\n",
    "nystroem_approx_sgd = Pipeline(\n",
    "    [\n",
    "        (\"feature_map\", feature_map_nystroem),\n",
    "        (\"sgd\", sgd_reg),\n",
    "    ]\n",
    ")\n",
    "param_grid = {\n",
    "    'feature_map__gamma': [0.001, 0.01, 0.1],\n",
    "    'feature_map__n_components': np.arange(100,200,10)\n",
    "}\n",
    "nystroem_approx_sgd_grid_search = GridSearchCV(estimator=nystroem_approx_sgd, param_grid=param_grid, cv=cv, n_jobs=-1, verbose=1)\n",
    "\n",
    "# Dictionary of models for regression\n",
    "models_kernel_reg = {\n",
    "    'Kernel SVR': kernel_svr_grid_search,\n",
    "    'Linear SVR': linear_svr_grid_search,\n",
    "    'SGD Regressor': sgd_reg_grid_search,\n",
    "    'Fourier Approximation with Linear SVR': fourier_approx_sgd_grid_search,\n",
    "    'Fourier Approximation with SGDRegressor': fourier_approx_sgd_grid_search,\n",
    "    'Nystroem Approximation with Linear SVR': nystroem_approx_svr_grid_search,\n",
    "    'Nystroem Approximation with SGDRegressor': nystroem_approx_sgd_grid_search\n",
    "}\n",
    "\n",
    "# Define the evaluation function (you'll need to adapt it for regression)\n",
    "_ ,markdown_kernel_content = evaluate_models(models_kernel_reg, X_train_scaled, X_test_scaled, y_train, y_test)\n",
    "\n",
    "# Display the results\n",
    "display(Markdown(markdown_kernel_content))"
   ]
  },
  {
   "cell_type": "markdown",
   "metadata": {},
   "source": [
    "### Dimensional Reduction"
   ]
  },
  {
   "cell_type": "code",
   "execution_count": 19,
   "metadata": {},
   "outputs": [
    {
     "name": "stdout",
     "output_type": "stream",
     "text": [
      "(623, 3)\n",
      "(268, 3)\n"
     ]
    },
    {
     "name": "stderr",
     "output_type": "stream",
     "text": [
      "Evaluating models:   0%|          | 0/8 [00:00<?, ?it/s]"
     ]
    },
    {
     "name": "stderr",
     "output_type": "stream",
     "text": [
      "Evaluating models: 100%|██████████| 8/8 [00:05<00:00,  1.51it/s]\n"
     ]
    },
    {
     "data": {
      "text/markdown": [
       "### Model Evaluation\n",
       "\n",
       "| <center> Model                </center> | <center>   Accuracy Train </center> | <center>   Accuracy Test </center> | <center>   Precision Train </center> | <center>   Precision Test </center> | <center>   Recall Train </center> | <center>   Recall Test </center> | <center>   F1 Train </center> | <center>   F1 Test </center> | <center>   MCC Train </center> | <center>   MCC Test </center> |\n",
       "|:---------------------|-----------------:|----------------:|------------------:|-----------------:|---------------:|--------------:|-----------:|----------:|------------:|-----------:|\n",
       "| Logistic Regression  |         0.473515 |        0.492537 |          0.718567 |         0.706337 |       0.473515 |      0.492537 |   0.405621 |  0.406978 |    0.215185 |   0.205938 |\n",
       "| KNN                  |         0.760835 |        0.705224 |          0.756566 |         0.701986 |       0.760835 |      0.705224 |   0.755813 |  0.699064 |    0.474129 |   0.38052  |\n",
       "| Gaussian Naive Bayes |         0.714286 |        0.705224 |          0.706897 |         0.708606 |       0.714286 |      0.705224 |   0.699928 |  0.690097 |    0.358587 |   0.37903  |\n",
       "| Decision Tree        |         0.569823 |        0.634328 |          0.732155 |         0.779134 |       0.569823 |      0.634328 |   0.550627 |  0.612128 |    0.317624 |   0.422775 |\n",
       "| Random Forest        |         0.568218 |        0.634328 |          0.731357 |         0.779134 |       0.568218 |      0.634328 |   0.548596 |  0.612128 |    0.315454 |   0.422775 |\n",
       "| Extra Trees          |         0.370787 |        0.414179 |          0.137483 |         0.171544 |       0.370787 |      0.414179 |   0.200589 |  0.242606 |    0        |   0        |\n",
       "| AdaBoost             |         0.739968 |        0.742537 |          0.734351 |         0.745829 |       0.739968 |      0.742537 |   0.732797 |  0.733211 |    0.424778 |   0.461285 |\n",
       "| Neural Networks      |         0.701445 |        0.723881 |          0.6937   |         0.728131 |       0.701445 |      0.723881 |   0.694542 |  0.71136  |    0.340045 |   0.420776 |\n",
       "\n"
      ],
      "text/plain": [
       "<IPython.core.display.Markdown object>"
      ]
     },
     "metadata": {},
     "output_type": "display_data"
    }
   ],
   "source": [
    "# Compute the PCA for the data\n",
    "\n",
    "from sklearn.decomposition import PCA\n",
    "\n",
    "# Create a PCA object\n",
    "pca = PCA(n_components=0.99, random_state=rs, whiten=True)\n",
    "\n",
    "# Fit and transform the data\n",
    "X_train_pca = pca.fit_transform(X_train_noscaled)\n",
    "X_test_pca = pca.transform(X_test_noscaled)\n",
    "\n",
    "# Display the shape of the data\n",
    "print(X_train_pca.shape)\n",
    "print(X_test_pca.shape)\n",
    "\n",
    "# Evaluate the models with PCA\n",
    "_ , markdown_pca_content = evaluate_models(models, X_train_pca, X_test_pca, y_train, y_test)\n",
    "\n",
    "# Display the results\n",
    "display(Markdown(markdown_pca_content))\n"
   ]
  },
  {
   "cell_type": "markdown",
   "metadata": {},
   "source": [
    "### Feature Selection"
   ]
  },
  {
   "cell_type": "code",
   "execution_count": 20,
   "metadata": {},
   "outputs": [
    {
     "name": "stdout",
     "output_type": "stream",
     "text": [
      "Top features using Random Forest: ['Fare' 'Age' 'Sex_female' 'Sex_male' 'Pclass' 'SibSp' 'Parch']\n"
     ]
    }
   ],
   "source": [
    "# Fit the Random Forest model\n",
    "rf_model = parameters['Random Forest']\n",
    "\n",
    "rf_model.fit(X_train_scaled_df, y_train)\n",
    "\n",
    "# Get feature importances from the model\n",
    "importances = rf_model.feature_importances_\n",
    "\n",
    "# Create a DataFrame to rank features by importance\n",
    "feature_importance_df = pd.DataFrame({\n",
    "    'Feature': X_train_scaled_df.columns,\n",
    "    'Importance': importances\n",
    "})\n",
    "\n",
    "# Sort features by importance\n",
    "feature_importance_df = feature_importance_df.sort_values(by='Importance', ascending=False)\n",
    "\n",
    "# Select top features that cumulatively explain 95% of the importance\n",
    "cumulative_importance = 0.95\n",
    "top_features_rf = feature_importance_df['Feature'].values[feature_importance_df['Importance'].cumsum() < cumulative_importance]\n",
    "\n",
    "# Display the top features\n",
    "print(\"Top features using Random Forest:\", top_features_rf)\n"
   ]
  },
  {
   "cell_type": "code",
   "execution_count": 21,
   "metadata": {},
   "outputs": [
    {
     "name": "stderr",
     "output_type": "stream",
     "text": [
      "Evaluating models: 100%|██████████| 8/8 [00:05<00:00,  1.54it/s]\n"
     ]
    },
    {
     "data": {
      "text/markdown": [
       "### Model Evaluation\n",
       "\n",
       "| <center> Model                </center> | <center>   Accuracy Train </center> | <center>   Accuracy Test </center> | <center>   Precision Train </center> | <center>   Precision Test </center> | <center>   Recall Train </center> | <center>   Recall Test </center> | <center>   F1 Train </center> | <center>   F1 Test </center> | <center>   MCC Train </center> | <center>   MCC Test </center> |\n",
       "|:---------------------|-----------------:|----------------:|------------------:|-----------------:|---------------:|--------------:|-----------:|----------:|------------:|-----------:|\n",
       "| Logistic Regression  |         0.720706 |        0.772388 |          0.769684 |         0.813898 |       0.720706 |      0.772388 |   0.725008 |  0.772797 |    0.478479 |   0.585546 |\n",
       "| KNN                  |         0.833066 |        0.817164 |          0.83301  |         0.819301 |       0.833066 |      0.817164 |   0.829206 |  0.813824 |    0.63555  |   0.620544 |\n",
       "| Gaussian Naive Bayes |         0.788122 |        0.787313 |          0.787095 |         0.786614 |       0.788122 |      0.787313 |   0.787533 |  0.786863 |    0.5436   |   0.560123 |\n",
       "| Decision Tree        |         0.370787 |        0.414179 |          0.137483 |         0.171544 |       0.370787 |      0.414179 |   0.200589 |  0.242606 |    0        |   0        |\n",
       "| Random Forest        |         0.749599 |        0.776119 |          0.791935 |         0.812784 |       0.749599 |      0.776119 |   0.753709 |  0.776868 |    0.528842 |   0.587408 |\n",
       "| Extra Trees          |         0.764045 |        0.776119 |          0.799041 |         0.812784 |       0.764045 |      0.776119 |   0.768043 |  0.776868 |    0.548824 |   0.587408 |\n",
       "| AdaBoost             |         0.794543 |        0.798507 |          0.79257  |         0.79745  |       0.794543 |      0.798507 |   0.793135 |  0.797244 |    0.554789 |   0.581476 |\n",
       "| Neural Networks      |         0.82825  |        0.817164 |          0.826913 |         0.817666 |       0.82825  |      0.817164 |   0.82534  |  0.814708 |    0.625258 |   0.619925 |\n",
       "\n"
      ],
      "text/plain": [
       "<IPython.core.display.Markdown object>"
      ]
     },
     "metadata": {},
     "output_type": "display_data"
    }
   ],
   "source": [
    "# Filter the top features from the training and test sets for scaled data\n",
    "X_train_top_rf = X_train_scaled_df[top_features_rf]\n",
    "X_test_top_rf = X_test_scaled_df[top_features_rf]\n",
    "\n",
    "# Evaluate the models with the top features\n",
    "_ , markdown_top_content = evaluate_models(models, X_train_top_rf, X_test_top_rf, y_train, y_test)\n",
    "\n",
    "# Display the results\n",
    "display(Markdown(markdown_top_content))"
   ]
  },
  {
   "cell_type": "code",
   "execution_count": 22,
   "metadata": {},
   "outputs": [
    {
     "name": "stdout",
     "output_type": "stream",
     "text": [
      "Features selected by RFECV:  Index(['Age', 'Fare', 'Sex_female', 'Sex_male', 'Embarked_C', 'Embarked_S',\n",
      "       'Pclass', 'SibSp', 'Parch'],\n",
      "      dtype='object')\n"
     ]
    }
   ],
   "source": [
    "from sklearn.feature_selection import RFECV\n",
    "\n",
    "# Initialize the RFECV\n",
    "rfecv = RFECV(rf_model, cv=cv)  # Cross-validation to find the optimal number of features\n",
    "\n",
    "# Fit RFE\n",
    "rfecv.fit(X_train_scaled, y_train)\n",
    "\n",
    "# Number of features\n",
    "top_features_rfecv = X_train_scaled_df.columns[rfecv.support_]\n",
    "print( \"Features selected by RFECV: \", top_features_rfecv)"
   ]
  },
  {
   "cell_type": "code",
   "execution_count": 24,
   "metadata": {},
   "outputs": [
    {
     "name": "stderr",
     "output_type": "stream",
     "text": [
      "Evaluating models:   0%|          | 0/8 [00:00<?, ?it/s]/home/anzoar/miniconda3/envs/MLProjects/lib/python3.11/site-packages/sklearn/linear_model/_sag.py:349: ConvergenceWarning: The max_iter was reached which means the coef_ did not converge\n",
      "  warnings.warn(\n",
      "/home/anzoar/miniconda3/envs/MLProjects/lib/python3.11/site-packages/sklearn/linear_model/_sag.py:349: ConvergenceWarning: The max_iter was reached which means the coef_ did not converge\n",
      "  warnings.warn(\n",
      "/home/anzoar/miniconda3/envs/MLProjects/lib/python3.11/site-packages/sklearn/linear_model/_sag.py:349: ConvergenceWarning: The max_iter was reached which means the coef_ did not converge\n",
      "  warnings.warn(\n",
      "/home/anzoar/miniconda3/envs/MLProjects/lib/python3.11/site-packages/sklearn/linear_model/_sag.py:349: ConvergenceWarning: The max_iter was reached which means the coef_ did not converge\n",
      "  warnings.warn(\n",
      "/home/anzoar/miniconda3/envs/MLProjects/lib/python3.11/site-packages/sklearn/linear_model/_sag.py:349: ConvergenceWarning: The max_iter was reached which means the coef_ did not converge\n",
      "  warnings.warn(\n",
      "/home/anzoar/miniconda3/envs/MLProjects/lib/python3.11/site-packages/sklearn/linear_model/_sag.py:349: ConvergenceWarning: The max_iter was reached which means the coef_ did not converge\n",
      "  warnings.warn(\n",
      "/home/anzoar/miniconda3/envs/MLProjects/lib/python3.11/site-packages/sklearn/linear_model/_sag.py:349: ConvergenceWarning: The max_iter was reached which means the coef_ did not converge\n",
      "  warnings.warn(\n",
      "/home/anzoar/miniconda3/envs/MLProjects/lib/python3.11/site-packages/sklearn/linear_model/_sag.py:349: ConvergenceWarning: The max_iter was reached which means the coef_ did not converge\n",
      "  warnings.warn(\n",
      "/home/anzoar/miniconda3/envs/MLProjects/lib/python3.11/site-packages/sklearn/linear_model/_sag.py:349: ConvergenceWarning: The max_iter was reached which means the coef_ did not converge\n",
      "  warnings.warn(\n",
      "/home/anzoar/miniconda3/envs/MLProjects/lib/python3.11/site-packages/sklearn/linear_model/_sag.py:349: ConvergenceWarning: The max_iter was reached which means the coef_ did not converge\n",
      "  warnings.warn(\n",
      "/home/anzoar/miniconda3/envs/MLProjects/lib/python3.11/site-packages/sklearn/linear_model/_sag.py:349: ConvergenceWarning: The max_iter was reached which means the coef_ did not converge\n",
      "  warnings.warn(\n",
      "/home/anzoar/miniconda3/envs/MLProjects/lib/python3.11/site-packages/sklearn/linear_model/_sag.py:349: ConvergenceWarning: The max_iter was reached which means the coef_ did not converge\n",
      "  warnings.warn(\n",
      "/home/anzoar/miniconda3/envs/MLProjects/lib/python3.11/site-packages/sklearn/linear_model/_sag.py:349: ConvergenceWarning: The max_iter was reached which means the coef_ did not converge\n",
      "  warnings.warn(\n",
      "/home/anzoar/miniconda3/envs/MLProjects/lib/python3.11/site-packages/sklearn/linear_model/_sag.py:349: ConvergenceWarning: The max_iter was reached which means the coef_ did not converge\n",
      "  warnings.warn(\n",
      "/home/anzoar/miniconda3/envs/MLProjects/lib/python3.11/site-packages/sklearn/linear_model/_sag.py:349: ConvergenceWarning: The max_iter was reached which means the coef_ did not converge\n",
      "  warnings.warn(\n",
      "/home/anzoar/miniconda3/envs/MLProjects/lib/python3.11/site-packages/sklearn/linear_model/_sag.py:349: ConvergenceWarning: The max_iter was reached which means the coef_ did not converge\n",
      "  warnings.warn(\n",
      "/home/anzoar/miniconda3/envs/MLProjects/lib/python3.11/site-packages/sklearn/linear_model/_sag.py:349: ConvergenceWarning: The max_iter was reached which means the coef_ did not converge\n",
      "  warnings.warn(\n",
      "Evaluating models: 100%|██████████| 8/8 [00:04<00:00,  1.79it/s]\n"
     ]
    },
    {
     "data": {
      "text/markdown": [
       "### Model Evaluation\n",
       "\n",
       "| <center> Model                </center> | <center>   Accuracy Train </center> | <center>   Accuracy Test </center> | <center>   Precision Train </center> | <center>   Precision Test </center> | <center>   Recall Train </center> | <center>   Recall Test </center> | <center>   F1 Train </center> | <center>   F1 Test </center> | <center>   MCC Train </center> | <center>   MCC Test </center> |\n",
       "|:---------------------|-----------------:|----------------:|------------------:|-----------------:|---------------:|--------------:|-----------:|----------:|------------:|-----------:|\n",
       "| Logistic Regression  |         0.725522 |        0.757463 |          0.772433 |         0.80167  |       0.725522 |      0.757463 |   0.729847 |  0.757615 |    0.485562 |   0.55887  |\n",
       "| KNN                  |         0.831461 |        0.802239 |          0.832631 |         0.805728 |       0.831461 |      0.802239 |   0.826683 |  0.797559 |    0.632112 |   0.589603 |\n",
       "| Gaussian Naive Bayes |         0.781701 |        0.779851 |          0.782522 |         0.781683 |       0.781701 |      0.779851 |   0.782079 |  0.780494 |    0.533866 |   0.549711 |\n",
       "| Decision Tree        |         0.601926 |        0.641791 |          0.68382  |         0.692298 |       0.601926 |      0.641791 |   0.602726 |  0.639635 |    0.284338 |   0.337311 |\n",
       "| Random Forest        |         0.812199 |        0.791045 |          0.834856 |         0.811275 |       0.812199 |      0.791045 |   0.815262 |  0.792518 |    0.632324 |   0.597776 |\n",
       "| Extra Trees          |         0.714286 |        0.746269 |          0.77066  |         0.798945 |       0.714286 |      0.746269 |   0.718252 |  0.745562 |    0.475167 |   0.546266 |\n",
       "| AdaBoost             |         0.786517 |        0.791045 |          0.783956 |         0.789921 |       0.786517 |      0.791045 |   0.784464 |  0.789341 |    0.535803 |   0.565364 |\n",
       "| Neural Networks      |         0.853933 |        0.817164 |          0.85624  |         0.819301 |       0.853933 |      0.817164 |   0.850016 |  0.813824 |    0.68285  |   0.620544 |\n",
       "\n"
      ],
      "text/plain": [
       "<IPython.core.display.Markdown object>"
      ]
     },
     "metadata": {},
     "output_type": "display_data"
    }
   ],
   "source": [
    "# Filter the top features from the training and test sets\n",
    "X_train_top_rfecv = X_train_scaled_df.loc[:, top_features_rfecv]\n",
    "X_test_top_rfecv = X_test_scaled_df.loc[:, top_features_rfecv]\n",
    "\n",
    "# Evaluate the models with the top features\n",
    "_ , markdown_top_content = evaluate_models(models, X_train_top_rfecv, X_test_top_rfecv, y_train, y_test)\n",
    "\n",
    "# Display the results\n",
    "display(Markdown(markdown_top_content))"
   ]
  },
  {
   "cell_type": "markdown",
   "metadata": {},
   "source": [
    "### XGBoost"
   ]
  },
  {
   "cell_type": "code",
   "execution_count": 25,
   "metadata": {},
   "outputs": [
    {
     "name": "stdout",
     "output_type": "stream",
     "text": [
      "Train F1 Score: 0.8632011185348355\n",
      "Test F1 Score: 0.813343729115616\n"
     ]
    }
   ],
   "source": [
    "from xgboost import XGBClassifier, callback\n",
    "from sklearn.model_selection import RandomizedSearchCV\n",
    "\n",
    "# XGBoost\n",
    "param_grid_xgb = {\n",
    "    'n_estimators': [50, 100, 200],\n",
    "    'max_depth': [3, 5, 7],\n",
    "    'learning_rate': [0.001, 0.01, 0.1],\n",
    "    'subsample': [0.6, 0.8, 1.0],\n",
    "    'colsample_bytree': [0.6, 0.8, 1.0],\n",
    "    'reg_alpha': [0, 0.01, 0.1],\n",
    "    'reg_lambda': [1, 5, 10]\n",
    "}\n",
    "\n",
    "es = callback.EarlyStopping(\n",
    "    rounds=10,\n",
    "    min_delta=1e-3,\n",
    "    save_best=True,\n",
    "    maximize=False,\n",
    ")\n",
    "\n",
    "# Initialize XGBoost Regressor model\n",
    "xgb_model = XGBClassifier(verbosity=0, random_state=42, callbacks=[es], eval_metric='logloss', objective='binary:logistic')   \n",
    "\n",
    "# Randomized search over the parameter grid\n",
    "xgb_grid = RandomizedSearchCV(xgb_model, param_grid_xgb, cv=cv, n_jobs=-1, verbose=0, scoring='f1')\n",
    "\n",
    "# Fit the XGBoost model with early stopping\n",
    "xgb_grid.fit(X_train_scaled, y_train, \n",
    "             eval_set=[(X_test_scaled, y_test)],\n",
    "            verbose=False)\n",
    "\n",
    "# Make predictions\n",
    "y_pred = xgb_grid.predict(X_test_scaled)\n",
    "\n",
    "# Evaluate the model \n",
    "_,_,f1_train,_ = precision_recall_fscore_support(y_train, xgb_grid.predict(X_train_scaled), average='weighted')\n",
    "_,_,f1_test,_ = precision_recall_fscore_support(y_test, y_pred, average='weighted')\n",
    "\n",
    "\n",
    "# Display the evaluation metrics for the trained model and test data\n",
    "print(\"Train F1 Score:\", f1_train)\n",
    "print(\"Test F1 Score:\", f1_test)"
   ]
  },
  {
   "cell_type": "markdown",
   "metadata": {},
   "source": [
    "### Neural Network \n"
   ]
  },
  {
   "cell_type": "code",
   "execution_count": 26,
   "metadata": {},
   "outputs": [
    {
     "name": "stderr",
     "output_type": "stream",
     "text": [
      "2024-10-17 20:46:13.162884: I external/local_xla/xla/tsl/cuda/cudart_stub.cc:32] Could not find cuda drivers on your machine, GPU will not be used.\n",
      "2024-10-17 20:46:13.166991: I external/local_xla/xla/tsl/cuda/cudart_stub.cc:32] Could not find cuda drivers on your machine, GPU will not be used.\n",
      "2024-10-17 20:46:13.174929: E external/local_xla/xla/stream_executor/cuda/cuda_fft.cc:485] Unable to register cuFFT factory: Attempting to register factory for plugin cuFFT when one has already been registered\n",
      "2024-10-17 20:46:13.189580: E external/local_xla/xla/stream_executor/cuda/cuda_dnn.cc:8454] Unable to register cuDNN factory: Attempting to register factory for plugin cuDNN when one has already been registered\n",
      "2024-10-17 20:46:13.193763: E external/local_xla/xla/stream_executor/cuda/cuda_blas.cc:1452] Unable to register cuBLAS factory: Attempting to register factory for plugin cuBLAS when one has already been registered\n",
      "2024-10-17 20:46:13.208965: I tensorflow/core/platform/cpu_feature_guard.cc:210] This TensorFlow binary is optimized to use available CPU instructions in performance-critical operations.\n",
      "To enable the following instructions: AVX2 FMA, in other operations, rebuild TensorFlow with the appropriate compiler flags.\n",
      "2024-10-17 20:46:14.009694: W tensorflow/compiler/tf2tensorrt/utils/py_utils.cc:38] TF-TRT Warning: Could not find TensorRT\n"
     ]
    }
   ],
   "source": [
    "import tensorflow as tf\n",
    "from tensorflow import keras\n",
    "from tensorflow.keras import models, Sequential, layers\n",
    "from keras.optimizers import Adam\n",
    "import keras_tuner as kt\n",
    "from keras.callbacks import EarlyStopping, TensorBoard\n",
    "from tensorflow.keras.regularizers import l2\n",
    "\n",
    "tf.random.set_seed(42)"
   ]
  },
  {
   "cell_type": "code",
   "execution_count": 27,
   "metadata": {},
   "outputs": [],
   "source": [
    "metrics = [\n",
    "      keras.metrics.TruePositives(name='tp'),\n",
    "      keras.metrics.FalsePositives(name='fp'),\n",
    "      keras.metrics.TrueNegatives(name='tn'),\n",
    "      keras.metrics.FalseNegatives(name='fn'),\n",
    "      keras.metrics.BinaryAccuracy(name='accuracy'),\n",
    "      keras.metrics.Precision(name='precision'),\n",
    "      keras.metrics.Recall(name='recall'),\n",
    "      keras.metrics.AUC(name='auc'),\n",
    "      keras.metrics.AUC(name='prc', curve='PR'), # precision-recall curve\n",
    "]\n",
    "\n",
    "# Configure the search space\n",
    "hp = kt.engine.hyperparameters.HyperParameters()\n",
    "# Tuning the number of layers\n",
    "hp.Int('layers', min_value=1, max_value=5, step=1)\n",
    "# Tuning the number of units per layer and the dropout rate\n",
    "for i in range(5):\n",
    "    hp.Int(f'units_{i}', min_value=8, max_value=128, step=8)\n",
    "    hp.Float(f'dropout_{i}', min_value=0.0, max_value=0.5, step=0.1)\n",
    "#tuning the activation function\n",
    "hp.Choice('activation', values=['relu', 'tanh', 'elu', 'selu'])\n",
    "# Tuning the learning rate\n",
    "hp.Choice('learning_rate', values=[1e-2, 1e-3, 1e-4, 1e-5])\n",
    "#Tuning the bath size\n",
    "hp.Choice('batch_size', values=[32, 64, 128, 256])\n",
    "\n",
    "def model_builder(hp):\n",
    "    model = Sequential()\n",
    "\n",
    "    # Hidden layers with different numbers of units per layer\n",
    "    for i in range(hp.get('layers')):\n",
    "        model.add(layers.Dense(units=hp.get(f'units_{i}'),\n",
    "                               activation=hp.get('activation')\n",
    "                               ))\n",
    "        model.add(layers.Dropout(rate=hp.get(f'dropout_{i}')))\n",
    "        \n",
    "    # Output layer\n",
    "    model.add(layers.Dense(1, activation='sigmoid')) # Binary classification. Pueden realizarse clasificaciones binarias simultaneas con 2 neuronas con la funcion de activacion signmoid\n",
    "    \n",
    "    # Compile the model\n",
    "    model.compile(\n",
    "        optimizer=Adam(hp.get('learning_rate'), beta_1=0.9, beta_2=0.999, epsilon=1e-07),\n",
    "        loss='binary_crossentropy',\n",
    "        metrics=metrics,\n",
    "    )\n",
    "    \n",
    "    return model\n"
   ]
  },
  {
   "cell_type": "code",
   "execution_count": 28,
   "metadata": {},
   "outputs": [],
   "source": [
    "# Create the tuner with Bayesian Optimization\n",
    "tuner = kt.Hyperband(\n",
    "    model_builder,\n",
    "    objective=kt.Objective('val_prc', direction='max'),  # Specify the objective with direction\n",
    "    max_epochs=30,\n",
    "    factor=3,\n",
    "    directory='my_dir',\n",
    "    project_name='my_project',\n",
    "    hyperparameters=hp,\n",
    "    overwrite=True\n",
    ")\n",
    "\n",
    "# Define early stopping callback\n",
    "callbacks = [EarlyStopping(monitor='val_prc', patience=10, mode='max', restore_best_weights=True),\n",
    "                TensorBoard(log_dir='logs')]\n",
    "\n"
   ]
  },
  {
   "cell_type": "code",
   "execution_count": 29,
   "metadata": {},
   "outputs": [
    {
     "name": "stdout",
     "output_type": "stream",
     "text": [
      "Trial 90 Complete [00h 00m 09s]\n",
      "val_prc: 0.6158003807067871\n",
      "\n",
      "Best val_prc So Far: 0.8864166736602783\n",
      "Total elapsed time: 00h 06m 40s\n",
      "Best Hyperparameters: {'layers': 2, 'units_0': 16, 'dropout_0': 0.1, 'units_1': 48, 'dropout_1': 0.30000000000000004, 'units_2': 64, 'dropout_2': 0.0, 'units_3': 40, 'dropout_3': 0.4, 'units_4': 104, 'dropout_4': 0.2, 'activation': 'tanh', 'learning_rate': 0.01, 'batch_size': 32, 'tuner/epochs': 30, 'tuner/initial_epoch': 10, 'tuner/bracket': 2, 'tuner/round': 2, 'tuner/trial_id': '0071'}\n"
     ]
    }
   ],
   "source": [
    "# Run the tuner\n",
    "tuner.search(\n",
    "    X_train_scaled, \n",
    "    y_train,\n",
    "    epochs=30, \n",
    "    validation_data=(X_test_scaled, y_test),\n",
    "    callbacks=callbacks,\n",
    "    batch_size=hp.get('batch_size')\n",
    ")\n",
    "\n",
    "# Get the best hyperparameters\n",
    "best_hps = tuner.get_best_hyperparameters(num_trials=1)[0]\n",
    "\n",
    "# Print the best hyperparameters\n",
    "print(\"Best Hyperparameters:\", best_hps.values)"
   ]
  },
  {
   "cell_type": "code",
   "execution_count": 30,
   "metadata": {},
   "outputs": [
    {
     "name": "stdout",
     "output_type": "stream",
     "text": [
      "Epoch 1/30\n",
      "\u001b[1m20/20\u001b[0m \u001b[32m━━━━━━━━━━━━━━━━━━━━\u001b[0m\u001b[37m\u001b[0m \u001b[1m2s\u001b[0m 32ms/step - accuracy: 0.6428 - auc: 0.6681 - fn: 106.4286 - fp: 108.0000 - loss: 0.6373 - prc: 0.5929 - precision: 0.5448 - recall: 0.5544 - tn: 269.1429 - tp: 133.2857 - val_accuracy: 0.7799 - val_auc: 0.8725 - val_fn: 32.0000 - val_fp: 27.0000 - val_loss: 0.4412 - val_prc: 0.8343 - val_precision: 0.7453 - val_recall: 0.7117 - val_tn: 130.0000 - val_tp: 79.0000\n",
      "Epoch 2/30\n",
      "\u001b[1m20/20\u001b[0m \u001b[32m━━━━━━━━━━━━━━━━━━━━\u001b[0m\u001b[37m\u001b[0m \u001b[1m0s\u001b[0m 6ms/step - accuracy: 0.7566 - auc: 0.8078 - fn: 46.3333 - fp: 37.5714 - loss: 0.5081 - prc: 0.7551 - precision: 0.6854 - recall: 0.6298 - tn: 182.5714 - tp: 82.3810 - val_accuracy: 0.8022 - val_auc: 0.8831 - val_fn: 33.0000 - val_fp: 20.0000 - val_loss: 0.4385 - val_prc: 0.8615 - val_precision: 0.7959 - val_recall: 0.7027 - val_tn: 137.0000 - val_tp: 78.0000\n",
      "Epoch 3/30\n",
      "\u001b[1m20/20\u001b[0m \u001b[32m━━━━━━━━━━━━━━━━━━━━\u001b[0m\u001b[37m\u001b[0m \u001b[1m0s\u001b[0m 6ms/step - accuracy: 0.7930 - auc: 0.8424 - fn: 48.0476 - fp: 25.9524 - loss: 0.4606 - prc: 0.7924 - precision: 0.7729 - recall: 0.6250 - tn: 194.1905 - tp: 80.6667 - val_accuracy: 0.8022 - val_auc: 0.8883 - val_fn: 34.0000 - val_fp: 19.0000 - val_loss: 0.4202 - val_prc: 0.8755 - val_precision: 0.8021 - val_recall: 0.6937 - val_tn: 138.0000 - val_tp: 77.0000\n",
      "Epoch 4/30\n",
      "\u001b[1m20/20\u001b[0m \u001b[32m━━━━━━━━━━━━━━━━━━━━\u001b[0m\u001b[37m\u001b[0m \u001b[1m0s\u001b[0m 5ms/step - accuracy: 0.7707 - auc: 0.8472 - fn: 44.5238 - fp: 35.0952 - loss: 0.4595 - prc: 0.7978 - precision: 0.7132 - recall: 0.6353 - tn: 185.0476 - tp: 84.1905 - val_accuracy: 0.8060 - val_auc: 0.8847 - val_fn: 34.0000 - val_fp: 18.0000 - val_loss: 0.4270 - val_prc: 0.8713 - val_precision: 0.8105 - val_recall: 0.6937 - val_tn: 139.0000 - val_tp: 77.0000\n",
      "Epoch 5/30\n",
      "\u001b[1m20/20\u001b[0m \u001b[32m━━━━━━━━━━━━━━━━━━━━\u001b[0m\u001b[37m\u001b[0m \u001b[1m0s\u001b[0m 6ms/step - accuracy: 0.8118 - auc: 0.8541 - fn: 40.7143 - fp: 26.3810 - loss: 0.4515 - prc: 0.7972 - precision: 0.7895 - recall: 0.6736 - tn: 193.7619 - tp: 88.0000 - val_accuracy: 0.8060 - val_auc: 0.8870 - val_fn: 33.0000 - val_fp: 19.0000 - val_loss: 0.4200 - val_prc: 0.8726 - val_precision: 0.8041 - val_recall: 0.7027 - val_tn: 138.0000 - val_tp: 78.0000\n",
      "Epoch 6/30\n",
      "\u001b[1m20/20\u001b[0m \u001b[32m━━━━━━━━━━━━━━━━━━━━\u001b[0m\u001b[37m\u001b[0m \u001b[1m0s\u001b[0m 5ms/step - accuracy: 0.7985 - auc: 0.8481 - fn: 43.7619 - fp: 27.8571 - loss: 0.4572 - prc: 0.8012 - precision: 0.7798 - recall: 0.6426 - tn: 192.2857 - tp: 84.9524 - val_accuracy: 0.8134 - val_auc: 0.8874 - val_fn: 35.0000 - val_fp: 15.0000 - val_loss: 0.4270 - val_prc: 0.8747 - val_precision: 0.8352 - val_recall: 0.6847 - val_tn: 142.0000 - val_tp: 76.0000\n",
      "Epoch 7/30\n",
      "\u001b[1m20/20\u001b[0m \u001b[32m━━━━━━━━━━━━━━━━━━━━\u001b[0m\u001b[37m\u001b[0m \u001b[1m0s\u001b[0m 5ms/step - accuracy: 0.7952 - auc: 0.8452 - fn: 47.3333 - fp: 24.9524 - loss: 0.4607 - prc: 0.7960 - precision: 0.7860 - recall: 0.6173 - tn: 195.1905 - tp: 81.3810 - val_accuracy: 0.8134 - val_auc: 0.8908 - val_fn: 32.0000 - val_fp: 18.0000 - val_loss: 0.4079 - val_prc: 0.8802 - val_precision: 0.8144 - val_recall: 0.7117 - val_tn: 139.0000 - val_tp: 79.0000\n",
      "Epoch 8/30\n",
      "\u001b[1m20/20\u001b[0m \u001b[32m━━━━━━━━━━━━━━━━━━━━\u001b[0m\u001b[37m\u001b[0m \u001b[1m0s\u001b[0m 5ms/step - accuracy: 0.8093 - auc: 0.8535 - fn: 39.8095 - fp: 27.9524 - loss: 0.4461 - prc: 0.8190 - precision: 0.7727 - recall: 0.6878 - tn: 192.1905 - tp: 88.9048 - val_accuracy: 0.8134 - val_auc: 0.8901 - val_fn: 34.0000 - val_fp: 16.0000 - val_loss: 0.4143 - val_prc: 0.8805 - val_precision: 0.8280 - val_recall: 0.6937 - val_tn: 141.0000 - val_tp: 77.0000\n",
      "Epoch 9/30\n",
      "\u001b[1m20/20\u001b[0m \u001b[32m━━━━━━━━━━━━━━━━━━━━\u001b[0m\u001b[37m\u001b[0m \u001b[1m0s\u001b[0m 5ms/step - accuracy: 0.8188 - auc: 0.8547 - fn: 39.9524 - fp: 24.8095 - loss: 0.4470 - prc: 0.7988 - precision: 0.7993 - recall: 0.6845 - tn: 195.3333 - tp: 88.7619 - val_accuracy: 0.8172 - val_auc: 0.8862 - val_fn: 34.0000 - val_fp: 15.0000 - val_loss: 0.4209 - val_prc: 0.8743 - val_precision: 0.8370 - val_recall: 0.6937 - val_tn: 142.0000 - val_tp: 77.0000\n",
      "Epoch 10/30\n",
      "\u001b[1m20/20\u001b[0m \u001b[32m━━━━━━━━━━━━━━━━━━━━\u001b[0m\u001b[37m\u001b[0m \u001b[1m0s\u001b[0m 5ms/step - accuracy: 0.7965 - auc: 0.8515 - fn: 45.4762 - fp: 25.7619 - loss: 0.4548 - prc: 0.7964 - precision: 0.7876 - recall: 0.6219 - tn: 194.3810 - tp: 83.2381 - val_accuracy: 0.8097 - val_auc: 0.8845 - val_fn: 33.0000 - val_fp: 18.0000 - val_loss: 0.4182 - val_prc: 0.8724 - val_precision: 0.8125 - val_recall: 0.7027 - val_tn: 139.0000 - val_tp: 78.0000\n",
      "Epoch 11/30\n",
      "\u001b[1m20/20\u001b[0m \u001b[32m━━━━━━━━━━━━━━━━━━━━\u001b[0m\u001b[37m\u001b[0m \u001b[1m0s\u001b[0m 5ms/step - accuracy: 0.8027 - auc: 0.8555 - fn: 42.6667 - fp: 27.0476 - loss: 0.4437 - prc: 0.8190 - precision: 0.7759 - recall: 0.6590 - tn: 193.0952 - tp: 86.0476 - val_accuracy: 0.8134 - val_auc: 0.8862 - val_fn: 33.0000 - val_fp: 17.0000 - val_loss: 0.4213 - val_prc: 0.8748 - val_precision: 0.8211 - val_recall: 0.7027 - val_tn: 140.0000 - val_tp: 78.0000\n",
      "Epoch 12/30\n",
      "\u001b[1m20/20\u001b[0m \u001b[32m━━━━━━━━━━━━━━━━━━━━\u001b[0m\u001b[37m\u001b[0m \u001b[1m0s\u001b[0m 5ms/step - accuracy: 0.7970 - auc: 0.8479 - fn: 45.5714 - fp: 24.5238 - loss: 0.4503 - prc: 0.8129 - precision: 0.7710 - recall: 0.6425 - tn: 195.6190 - tp: 83.1429 - val_accuracy: 0.8172 - val_auc: 0.8865 - val_fn: 32.0000 - val_fp: 17.0000 - val_loss: 0.4167 - val_prc: 0.8728 - val_precision: 0.8229 - val_recall: 0.7117 - val_tn: 140.0000 - val_tp: 79.0000\n",
      "Epoch 13/30\n",
      "\u001b[1m20/20\u001b[0m \u001b[32m━━━━━━━━━━━━━━━━━━━━\u001b[0m\u001b[37m\u001b[0m \u001b[1m0s\u001b[0m 5ms/step - accuracy: 0.8145 - auc: 0.8618 - fn: 41.7143 - fp: 23.7143 - loss: 0.4313 - prc: 0.8292 - precision: 0.7992 - recall: 0.6681 - tn: 196.4286 - tp: 87.0000 - val_accuracy: 0.8172 - val_auc: 0.8821 - val_fn: 35.0000 - val_fp: 14.0000 - val_loss: 0.4249 - val_prc: 0.8682 - val_precision: 0.8444 - val_recall: 0.6847 - val_tn: 143.0000 - val_tp: 76.0000\n",
      "Epoch 14/30\n",
      "\u001b[1m20/20\u001b[0m \u001b[32m━━━━━━━━━━━━━━━━━━━━\u001b[0m\u001b[37m\u001b[0m \u001b[1m0s\u001b[0m 5ms/step - accuracy: 0.7879 - auc: 0.8428 - fn: 48.5238 - fp: 25.3333 - loss: 0.4598 - prc: 0.8109 - precision: 0.7766 - recall: 0.6019 - tn: 194.8095 - tp: 80.1905 - val_accuracy: 0.8172 - val_auc: 0.8759 - val_fn: 32.0000 - val_fp: 17.0000 - val_loss: 0.4249 - val_prc: 0.8624 - val_precision: 0.8229 - val_recall: 0.7117 - val_tn: 140.0000 - val_tp: 79.0000\n",
      "Epoch 15/30\n",
      "\u001b[1m20/20\u001b[0m \u001b[32m━━━━━━━━━━━━━━━━━━━━\u001b[0m\u001b[37m\u001b[0m \u001b[1m0s\u001b[0m 5ms/step - accuracy: 0.8119 - auc: 0.8652 - fn: 44.1905 - fp: 22.5714 - loss: 0.4319 - prc: 0.8254 - precision: 0.7952 - recall: 0.6645 - tn: 197.5714 - tp: 84.5238 - val_accuracy: 0.8060 - val_auc: 0.8856 - val_fn: 33.0000 - val_fp: 19.0000 - val_loss: 0.4142 - val_prc: 0.8735 - val_precision: 0.8041 - val_recall: 0.7027 - val_tn: 138.0000 - val_tp: 78.0000\n",
      "Epoch 16/30\n",
      "\u001b[1m20/20\u001b[0m \u001b[32m━━━━━━━━━━━━━━━━━━━━\u001b[0m\u001b[37m\u001b[0m \u001b[1m0s\u001b[0m 5ms/step - accuracy: 0.8079 - auc: 0.8599 - fn: 43.9048 - fp: 24.8095 - loss: 0.4348 - prc: 0.8238 - precision: 0.7861 - recall: 0.6612 - tn: 195.3333 - tp: 84.8095 - val_accuracy: 0.8321 - val_auc: 0.8825 - val_fn: 32.0000 - val_fp: 13.0000 - val_loss: 0.4192 - val_prc: 0.8716 - val_precision: 0.8587 - val_recall: 0.7117 - val_tn: 144.0000 - val_tp: 79.0000\n",
      "Epoch 17/30\n",
      "\u001b[1m20/20\u001b[0m \u001b[32m━━━━━━━━━━━━━━━━━━━━\u001b[0m\u001b[37m\u001b[0m \u001b[1m0s\u001b[0m 5ms/step - accuracy: 0.8195 - auc: 0.8603 - fn: 44.5714 - fp: 19.9048 - loss: 0.4378 - prc: 0.8185 - precision: 0.8260 - recall: 0.6509 - tn: 200.2381 - tp: 84.1429 - val_accuracy: 0.8172 - val_auc: 0.8783 - val_fn: 33.0000 - val_fp: 16.0000 - val_loss: 0.4220 - val_prc: 0.8629 - val_precision: 0.8298 - val_recall: 0.7027 - val_tn: 141.0000 - val_tp: 78.0000\n",
      "Epoch 18/30\n",
      "\u001b[1m20/20\u001b[0m \u001b[32m━━━━━━━━━━━━━━━━━━━━\u001b[0m\u001b[37m\u001b[0m \u001b[1m0s\u001b[0m 5ms/step - accuracy: 0.8036 - auc: 0.8628 - fn: 42.4762 - fp: 25.8095 - loss: 0.4314 - prc: 0.8243 - precision: 0.7700 - recall: 0.6683 - tn: 194.3333 - tp: 86.2381 - val_accuracy: 0.8022 - val_auc: 0.8835 - val_fn: 34.0000 - val_fp: 19.0000 - val_loss: 0.4148 - val_prc: 0.8711 - val_precision: 0.8021 - val_recall: 0.6937 - val_tn: 138.0000 - val_tp: 77.0000\n"
     ]
    },
    {
     "data": {
      "text/plain": [
       "<keras.src.callbacks.history.History at 0x7efc3d64c610>"
      ]
     },
     "execution_count": 30,
     "metadata": {},
     "output_type": "execute_result"
    }
   ],
   "source": [
    "# Build the model with the best hyperparameters\n",
    "history = model_builder(best_hps)\n",
    "\n",
    "# Train the model\n",
    "history.fit(\n",
    "    X_train_scaled, \n",
    "    y_train,\n",
    "    epochs=30, \n",
    "    validation_data=(X_test_scaled, y_test),\n",
    "    callbacks=callbacks,\n",
    "    batch_size=best_hps.get('batch_size')\n",
    ")"
   ]
  },
  {
   "cell_type": "code",
   "execution_count": 31,
   "metadata": {},
   "outputs": [
    {
     "name": "stdout",
     "output_type": "stream",
     "text": [
      "\u001b[1m20/20\u001b[0m \u001b[32m━━━━━━━━━━━━━━━━━━━━\u001b[0m\u001b[37m\u001b[0m \u001b[1m0s\u001b[0m 2ms/step \n",
      "\u001b[1m9/9\u001b[0m \u001b[32m━━━━━━━━━━━━━━━━━━━━\u001b[0m\u001b[37m\u001b[0m \u001b[1m0s\u001b[0m 743us/step\n"
     ]
    }
   ],
   "source": [
    "# Predict the target values using the trained model\n",
    "y_pred_train_b = history.predict(X_train_scaled)\n",
    "y_pred_test_b = history.predict(X_test_scaled)"
   ]
  },
  {
   "cell_type": "code",
   "execution_count": 32,
   "metadata": {},
   "outputs": [
    {
     "name": "stdout",
     "output_type": "stream",
     "text": [
      "Train F1 Score: 0.8137557396920051\n",
      "Test F1 Score: 0.8102594751261412\n"
     ]
    }
   ],
   "source": [
    "\n",
    "# Convert the predicted probabilities to binary values\n",
    "y_pred_train = (y_pred_train_b > 0.5).astype(int) #Because the output is a probability from the sigmoid function. Probaility than the output is 1\n",
    "y_pred_test = (y_pred_test_b > 0.5).astype(int)\n",
    "\n",
    "# Compute the F1 score for the training and test data\n",
    "_,_,f1_train,_ = precision_recall_fscore_support(y_train, y_pred_train, average='weighted')\n",
    "_,_,f1_test,_ = precision_recall_fscore_support(y_test, y_pred_test, average='weighted')   \n",
    "\n",
    "# Display the evaluation metrics for the trained model and test data\n",
    "print(\"Train F1 Score:\", f1_train)\n",
    "print(\"Test F1 Score:\", f1_test)"
   ]
  },
  {
   "cell_type": "code",
   "execution_count": 33,
   "metadata": {},
   "outputs": [
    {
     "data": {
      "text/html": [
       "<pre style=\"white-space:pre;overflow-x:auto;line-height:normal;font-family:Menlo,'DejaVu Sans Mono',consolas,'Courier New',monospace\"><span style=\"font-weight: bold\">Model: \"sequential_1\"</span>\n",
       "</pre>\n"
      ],
      "text/plain": [
       "\u001b[1mModel: \"sequential_1\"\u001b[0m\n"
      ]
     },
     "metadata": {},
     "output_type": "display_data"
    },
    {
     "data": {
      "text/html": [
       "<pre style=\"white-space:pre;overflow-x:auto;line-height:normal;font-family:Menlo,'DejaVu Sans Mono',consolas,'Courier New',monospace\">┏━━━━━━━━━━━━━━━━━━━━━━━━━━━━━━━━━┳━━━━━━━━━━━━━━━━━━━━━━━━┳━━━━━━━━━━━━━━━┓\n",
       "┃<span style=\"font-weight: bold\"> Layer (type)                    </span>┃<span style=\"font-weight: bold\"> Output Shape           </span>┃<span style=\"font-weight: bold\">       Param # </span>┃\n",
       "┡━━━━━━━━━━━━━━━━━━━━━━━━━━━━━━━━━╇━━━━━━━━━━━━━━━━━━━━━━━━╇━━━━━━━━━━━━━━━┩\n",
       "│ dense_4 (<span style=\"color: #0087ff; text-decoration-color: #0087ff\">Dense</span>)                 │ (<span style=\"color: #00d7ff; text-decoration-color: #00d7ff\">None</span>, <span style=\"color: #00af00; text-decoration-color: #00af00\">16</span>)             │           <span style=\"color: #00af00; text-decoration-color: #00af00\">176</span> │\n",
       "├─────────────────────────────────┼────────────────────────┼───────────────┤\n",
       "│ dropout_3 (<span style=\"color: #0087ff; text-decoration-color: #0087ff\">Dropout</span>)             │ (<span style=\"color: #00d7ff; text-decoration-color: #00d7ff\">None</span>, <span style=\"color: #00af00; text-decoration-color: #00af00\">16</span>)             │             <span style=\"color: #00af00; text-decoration-color: #00af00\">0</span> │\n",
       "├─────────────────────────────────┼────────────────────────┼───────────────┤\n",
       "│ dense_5 (<span style=\"color: #0087ff; text-decoration-color: #0087ff\">Dense</span>)                 │ (<span style=\"color: #00d7ff; text-decoration-color: #00d7ff\">None</span>, <span style=\"color: #00af00; text-decoration-color: #00af00\">48</span>)             │           <span style=\"color: #00af00; text-decoration-color: #00af00\">816</span> │\n",
       "├─────────────────────────────────┼────────────────────────┼───────────────┤\n",
       "│ dropout_4 (<span style=\"color: #0087ff; text-decoration-color: #0087ff\">Dropout</span>)             │ (<span style=\"color: #00d7ff; text-decoration-color: #00d7ff\">None</span>, <span style=\"color: #00af00; text-decoration-color: #00af00\">48</span>)             │             <span style=\"color: #00af00; text-decoration-color: #00af00\">0</span> │\n",
       "├─────────────────────────────────┼────────────────────────┼───────────────┤\n",
       "│ dense_6 (<span style=\"color: #0087ff; text-decoration-color: #0087ff\">Dense</span>)                 │ (<span style=\"color: #00d7ff; text-decoration-color: #00d7ff\">None</span>, <span style=\"color: #00af00; text-decoration-color: #00af00\">1</span>)              │            <span style=\"color: #00af00; text-decoration-color: #00af00\">49</span> │\n",
       "└─────────────────────────────────┴────────────────────────┴───────────────┘\n",
       "</pre>\n"
      ],
      "text/plain": [
       "┏━━━━━━━━━━━━━━━━━━━━━━━━━━━━━━━━━┳━━━━━━━━━━━━━━━━━━━━━━━━┳━━━━━━━━━━━━━━━┓\n",
       "┃\u001b[1m \u001b[0m\u001b[1mLayer (type)                   \u001b[0m\u001b[1m \u001b[0m┃\u001b[1m \u001b[0m\u001b[1mOutput Shape          \u001b[0m\u001b[1m \u001b[0m┃\u001b[1m \u001b[0m\u001b[1m      Param #\u001b[0m\u001b[1m \u001b[0m┃\n",
       "┡━━━━━━━━━━━━━━━━━━━━━━━━━━━━━━━━━╇━━━━━━━━━━━━━━━━━━━━━━━━╇━━━━━━━━━━━━━━━┩\n",
       "│ dense_4 (\u001b[38;5;33mDense\u001b[0m)                 │ (\u001b[38;5;45mNone\u001b[0m, \u001b[38;5;34m16\u001b[0m)             │           \u001b[38;5;34m176\u001b[0m │\n",
       "├─────────────────────────────────┼────────────────────────┼───────────────┤\n",
       "│ dropout_3 (\u001b[38;5;33mDropout\u001b[0m)             │ (\u001b[38;5;45mNone\u001b[0m, \u001b[38;5;34m16\u001b[0m)             │             \u001b[38;5;34m0\u001b[0m │\n",
       "├─────────────────────────────────┼────────────────────────┼───────────────┤\n",
       "│ dense_5 (\u001b[38;5;33mDense\u001b[0m)                 │ (\u001b[38;5;45mNone\u001b[0m, \u001b[38;5;34m48\u001b[0m)             │           \u001b[38;5;34m816\u001b[0m │\n",
       "├─────────────────────────────────┼────────────────────────┼───────────────┤\n",
       "│ dropout_4 (\u001b[38;5;33mDropout\u001b[0m)             │ (\u001b[38;5;45mNone\u001b[0m, \u001b[38;5;34m48\u001b[0m)             │             \u001b[38;5;34m0\u001b[0m │\n",
       "├─────────────────────────────────┼────────────────────────┼───────────────┤\n",
       "│ dense_6 (\u001b[38;5;33mDense\u001b[0m)                 │ (\u001b[38;5;45mNone\u001b[0m, \u001b[38;5;34m1\u001b[0m)              │            \u001b[38;5;34m49\u001b[0m │\n",
       "└─────────────────────────────────┴────────────────────────┴───────────────┘\n"
      ]
     },
     "metadata": {},
     "output_type": "display_data"
    },
    {
     "data": {
      "text/html": [
       "<pre style=\"white-space:pre;overflow-x:auto;line-height:normal;font-family:Menlo,'DejaVu Sans Mono',consolas,'Courier New',monospace\"><span style=\"font-weight: bold\"> Total params: </span><span style=\"color: #00af00; text-decoration-color: #00af00\">3,125</span> (12.21 KB)\n",
       "</pre>\n"
      ],
      "text/plain": [
       "\u001b[1m Total params: \u001b[0m\u001b[38;5;34m3,125\u001b[0m (12.21 KB)\n"
      ]
     },
     "metadata": {},
     "output_type": "display_data"
    },
    {
     "data": {
      "text/html": [
       "<pre style=\"white-space:pre;overflow-x:auto;line-height:normal;font-family:Menlo,'DejaVu Sans Mono',consolas,'Courier New',monospace\"><span style=\"font-weight: bold\"> Trainable params: </span><span style=\"color: #00af00; text-decoration-color: #00af00\">1,041</span> (4.07 KB)\n",
       "</pre>\n"
      ],
      "text/plain": [
       "\u001b[1m Trainable params: \u001b[0m\u001b[38;5;34m1,041\u001b[0m (4.07 KB)\n"
      ]
     },
     "metadata": {},
     "output_type": "display_data"
    },
    {
     "data": {
      "text/html": [
       "<pre style=\"white-space:pre;overflow-x:auto;line-height:normal;font-family:Menlo,'DejaVu Sans Mono',consolas,'Courier New',monospace\"><span style=\"font-weight: bold\"> Non-trainable params: </span><span style=\"color: #00af00; text-decoration-color: #00af00\">0</span> (0.00 B)\n",
       "</pre>\n"
      ],
      "text/plain": [
       "\u001b[1m Non-trainable params: \u001b[0m\u001b[38;5;34m0\u001b[0m (0.00 B)\n"
      ]
     },
     "metadata": {},
     "output_type": "display_data"
    },
    {
     "data": {
      "text/html": [
       "<pre style=\"white-space:pre;overflow-x:auto;line-height:normal;font-family:Menlo,'DejaVu Sans Mono',consolas,'Courier New',monospace\"><span style=\"font-weight: bold\"> Optimizer params: </span><span style=\"color: #00af00; text-decoration-color: #00af00\">2,084</span> (8.14 KB)\n",
       "</pre>\n"
      ],
      "text/plain": [
       "\u001b[1m Optimizer params: \u001b[0m\u001b[38;5;34m2,084\u001b[0m (8.14 KB)\n"
      ]
     },
     "metadata": {},
     "output_type": "display_data"
    }
   ],
   "source": [
    "history.summary()"
   ]
  },
  {
   "cell_type": "markdown",
   "metadata": {},
   "source": [
    "### Model Evaluation and Selection"
   ]
  },
  {
   "cell_type": "markdown",
   "metadata": {},
   "source": [
    "Since this dataset is slightly imbalanced, we prioritize the **F1-score** for model evaluation. Based on this metric, the **Neural Network** performs the best, achieving one of the highest scores on the test data. Furthermore, its training score is closely aligned with the test score, indicating strong generalization. In contrast, other models show a much higher training score, suggesting overfitting, which could reduce their reliability on unseen data."
   ]
  }
 ],
 "metadata": {
  "kernelspec": {
   "display_name": "MLProjects",
   "language": "python",
   "name": "python3"
  },
  "language_info": {
   "codemirror_mode": {
    "name": "ipython",
    "version": 3
   },
   "file_extension": ".py",
   "mimetype": "text/x-python",
   "name": "python",
   "nbconvert_exporter": "python",
   "pygments_lexer": "ipython3",
   "version": "3.11.5"
  }
 },
 "nbformat": 4,
 "nbformat_minor": 2
}
